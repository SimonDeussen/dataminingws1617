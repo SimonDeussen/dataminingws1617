{
 "cells": [
  {
   "cell_type": "markdown",
   "metadata": {},
   "source": [
    "# Python: Aufgaben zur Vorbereitung\n",
    "\n",
    "* Autor: Prof. Dr. Johannes Maucher\n",
    "* Datum: 13.10.2015\n",
    "* [Download des Jupyter Notebooks (.ipynb)](Aufgaben zur Einarbeitung in das Data Mining Praktikum.ipynb) Klick auf _Ziel speichern unter_. Im Verzeichnis, in dem das Notebook abgelegt wurde, Konsole öffnen und dort _jupyter notebook_ eingeben.\n",
    "\n",
    "[Übersicht Jupyter Notebooks im Data Mining Praktikum (.html)](Data Mining Praktikum.html)\n",
    "\n",
    "\n",
    "## Listen\n",
    "**Aufgaben:**\n",
    "1. Legen Sie zwei Listen gleicher Länge mit numerischen Datenelementen an."
   ]
  },
  {
   "cell_type": "code",
   "execution_count": 130,
   "metadata": {
    "collapsed": false
   },
   "outputs": [
    {
     "name": "stdout",
     "output_type": "stream",
     "text": [
      "6 6\n"
     ]
    }
   ],
   "source": [
    "list1 = range(3,9,)\n",
    "list2 = range(1,7)\n",
    "print str(len(list1)) + \" \" + str(len(list2))"
   ]
  },
  {
   "cell_type": "markdown",
   "metadata": {},
   "source": [
    "2. Hängen Sie an die erste Liste die Elemente der zweiten Liste an."
   ]
  },
  {
   "cell_type": "code",
   "execution_count": 131,
   "metadata": {
    "collapsed": false
   },
   "outputs": [
    {
     "name": "stdout",
     "output_type": "stream",
     "text": [
      "[3, 4, 5, 6, 7, 8, 1, 2, 3, 4, 5, 6]\n"
     ]
    }
   ],
   "source": [
    "list3 = list1+list2\n",
    "print list3"
   ]
  },
  {
   "cell_type": "markdown",
   "metadata": {},
   "source": [
    "3. Suchen Sie in der neuen Liste nach einem Element mit einem bestimmten Wert und bestimmen Sie an welcher Position das Element in der Liste auftritt. Wie kann der Fall, dass der vorgegebene Wert nicht in der Liste ist, abgefangen werden?"
   ]
  },
  {
   "cell_type": "code",
   "execution_count": 189,
   "metadata": {
    "collapsed": false
   },
   "outputs": [
    {
     "name": "stdout",
     "output_type": "stream",
     "text": [
      "3\n"
     ]
    }
   ],
   "source": [
    "def printSafeIndex(obj,list):\n",
    "    if obj in list:\n",
    "        print list.index(obj)\n",
    "    else:\n",
    "        print \"not found\"\n",
    "    return\n",
    "\n",
    "printSafeIndex(6,list3)"
   ]
  },
  {
   "cell_type": "markdown",
   "metadata": {},
   "source": [
    "4. Löschen Sie die Elemente von der zweiten bis zur vierten Stelle aus der Liste (Elemente an den Indizes 1,2 und 3)"
   ]
  },
  {
   "cell_type": "code",
   "execution_count": 190,
   "metadata": {
    "collapsed": false
   },
   "outputs": [
    {
     "name": "stdout",
     "output_type": "stream",
     "text": [
      "[3, 7, 8, 1, 2, 3, 4, 5, 6]\n"
     ]
    }
   ],
   "source": [
    "del list3[1:4]\n",
    "print list3"
   ]
  },
  {
   "cell_type": "markdown",
   "metadata": {},
   "source": [
    "4. Fügen Sie die Elemente 4,2 und 1 an der Stelle 2 fortfolgend ein (so dass Liste erweitert wird)"
   ]
  },
  {
   "cell_type": "code",
   "execution_count": 192,
   "metadata": {
    "collapsed": false
   },
   "outputs": [
    {
     "name": "stdout",
     "output_type": "stream",
     "text": [
      "[3, 7, 2, 2, 2, 2, 8, 1, 2, 3, 4, 5, 6]\n"
     ]
    }
   ],
   "source": [
    "x=[4,2]\n",
    "for i in range(0,len(x)):\n",
    "    x.reverse()\n",
    "    list3.insert(2,x[i])\n",
    "    \n",
    "print list3\n"
   ]
  },
  {
   "cell_type": "markdown",
   "metadata": {},
   "source": [
    "5. Sortieren Sie die Liste nach absteigenden Werten."
   ]
  },
  {
   "cell_type": "code",
   "execution_count": 193,
   "metadata": {
    "collapsed": false
   },
   "outputs": [],
   "source": [
    "list3.sort(reverse=True)"
   ]
  },
  {
   "cell_type": "markdown",
   "metadata": {},
   "source": [
    "6. Berechnen Sie die elementweise Summe zweier numerischer Listen gleicher Länge mithilfe einer _List-Comprehension_."
   ]
  },
  {
   "cell_type": "code",
   "execution_count": 194,
   "metadata": {
    "collapsed": false
   },
   "outputs": [
    {
     "name": "stdout",
     "output_type": "stream",
     "text": [
      "[16, 14, 12, 10, 8, 6, 6, 4, 4, 4, 4, 4, 2]\n"
     ]
    }
   ],
   "source": [
    "list4 = list3[:]\n",
    "list5 = list3[:]\n",
    "\n",
    "for index,num in enumerate(list3):\n",
    "    list5[index]  = num+list4[index]\n",
    "print list5"
   ]
  },
  {
   "cell_type": "markdown",
   "metadata": {},
   "source": [
    "## Strings\n",
    "**Aufgaben:**\n",
    "\n",
    "1. Weisen Sie einen Text mit mindestens 10 Wörtern einer Stringvariablen _text1_ zu."
   ]
  },
  {
   "cell_type": "markdown",
   "metadata": {},
   "source": [
    "text1 = \"Lorem ipsum dolor sit amet, consectetuer adipiscing elit. \""
   ]
  },
  {
   "cell_type": "markdown",
   "metadata": {},
   "source": [
    "2. Transformieren Sie _text1_ so, dass alle Wörter klein geschrieben sind."
   ]
  },
  {
   "cell_type": "code",
   "execution_count": 5,
   "metadata": {
    "collapsed": false
   },
   "outputs": [
    {
     "data": {
      "text/plain": [
       "'lorem ipsum dolor sit amet, consectetuer adipiscing elit'"
      ]
     },
     "execution_count": 5,
     "metadata": {},
     "output_type": "execute_result"
    }
   ],
   "source": [
    "text1 = \"Lorem ipsum dolor sit amet, consectetuer adipiscing elit\"\n",
    "text1.lower()"
   ]
  },
  {
   "cell_type": "markdown",
   "metadata": {},
   "source": [
    "3. Aus wievielen Zeichen besteht der Text?"
   ]
  },
  {
   "cell_type": "code",
   "execution_count": 6,
   "metadata": {
    "collapsed": false
   },
   "outputs": [
    {
     "name": "stdout",
     "output_type": "stream",
     "text": [
      "56\n"
     ]
    }
   ],
   "source": [
    "print len(text1)"
   ]
  },
  {
   "cell_type": "markdown",
   "metadata": {},
   "source": [
    "4. Aus wievielen unterschiedlichen Zeichen besteht der Text?"
   ]
  },
  {
   "cell_type": "code",
   "execution_count": 7,
   "metadata": {
    "collapsed": false
   },
   "outputs": [
    {
     "name": "stdout",
     "output_type": "stream",
     "text": [
      "set(['a', ' ', 'c', 'e', 'd', 'g', 'i', 'm', 'L', 'o', 'l', 'p', 's', 'r', 'u', 't', 'n', ',']) 18\n"
     ]
    }
   ],
   "source": [
    "s = set(text1)\n",
    "print s, len(s)"
   ]
  },
  {
   "cell_type": "markdown",
   "metadata": {},
   "source": [
    "1. Zerlegen Sie den in der String-Variablen abgespeicherten Text in eine Liste _list1_ von Wörtern."
   ]
  },
  {
   "cell_type": "code",
   "execution_count": 8,
   "metadata": {
    "collapsed": false
   },
   "outputs": [
    {
     "name": "stdout",
     "output_type": "stream",
     "text": [
      "['Lorem', 'ipsum', 'dolor', 'sit', 'amet,', 'consectetuer', 'adipiscing', 'elit']\n"
     ]
    }
   ],
   "source": [
    "l1 = text1.split()\n",
    "print l1"
   ]
  },
  {
   "cell_type": "markdown",
   "metadata": {},
   "source": [
    "2. Aus wievielen Wörtern besteht der Text?"
   ]
  },
  {
   "cell_type": "code",
   "execution_count": 9,
   "metadata": {
    "collapsed": false
   },
   "outputs": [
    {
     "name": "stdout",
     "output_type": "stream",
     "text": [
      "8\n"
     ]
    }
   ],
   "source": [
    "print len(l1)"
   ]
  },
  {
   "cell_type": "markdown",
   "metadata": {},
   "source": [
    "3. Aus wievielen unterschiedlichen Wörtern besteht der Text?"
   ]
  },
  {
   "cell_type": "code",
   "execution_count": 10,
   "metadata": {
    "collapsed": false
   },
   "outputs": [
    {
     "name": "stdout",
     "output_type": "stream",
     "text": [
      "set(['ipsum', 'amet,', 'sit', 'elit', 'adipiscing', 'dolor', 'consectetuer', 'Lorem']) 8\n"
     ]
    }
   ],
   "source": [
    "s2 = set()\n",
    "for i,n in enumerate(l1):\n",
    "    s2.add(n)\n",
    "print s2, len(s2)"
   ]
  },
  {
   "cell_type": "markdown",
   "metadata": {},
   "source": [
    "1. Legen Sie analog zu _text1_ noch zwei weitere Stringvariablen _text2_ und _text3_ an, die ungefähr so viele Wörter enthalten wie _text1_."
   ]
  },
  {
   "cell_type": "code",
   "execution_count": 97,
   "metadata": {
    "collapsed": true
   },
   "outputs": [],
   "source": [
    "text1 = \"Lorem ipsum dolor dolor dolor sit amet, consectetuer adipiscing elit.\"\n",
    "text2 = \"Aenean commodo ligula eget dolor Aenean massa.\"\n",
    "text3 = \"Cum sociis natoque penatibus et magnis dis parturient montes\""
   ]
  },
  {
   "cell_type": "markdown",
   "metadata": {},
   "source": [
    "2. Wiederholen Sie die oben genannten Schritte für _text2_ und _text3_. Die zugehörigen Wortlisten sollten mit _liste2_ und _liste3_ bezeichnet werden."
   ]
  },
  {
   "cell_type": "code",
   "execution_count": 86,
   "metadata": {
    "collapsed": false
   },
   "outputs": [],
   "source": [
    "import re\n",
    "def getWortSet(text):\n",
    "    text = text.lower()\n",
    "    text = delPunkte(text)\n",
    "    text.strip(\".\")\n",
    "    l = re.split('[ |\\. |\\, ]+', text, flags=re.IGNORECASE)\n",
    "    s = set()\n",
    "    for i,n in enumerate(l):\n",
    "        s.add(n)\n",
    "    return s\n",
    "\n"
   ]
  },
  {
   "cell_type": "code",
   "execution_count": 87,
   "metadata": {
    "collapsed": false
   },
   "outputs": [
    {
     "name": "stdout",
     "output_type": "stream",
     "text": [
      "set(['elit', 'et', 'ligula', 'natoque', 'sit', 'lorem', 'massa', 'cum', 'montes', 'commodo', 'eget', 'parturient', 'amet', 'aenean', 'ipsum', 'sociis', 'penatibus', 'adipiscing', 'dolor', 'consectetuer', 'magnis', 'dis'])\n"
     ]
    }
   ],
   "source": [
    "print getWortSet(text1+text2+text3)"
   ]
  },
  {
   "cell_type": "markdown",
   "metadata": {},
   "source": [
    "3. Bestimmen Sie jetzt das gesamte Vokabular. Das gesamte Vokabular ist die Menge aller Worte, die mindestens in einem der 3 Texte vorkommen. Die Wörter des Vokabulars sollen in einer Liste _vocabular_ gespeichert werden. Aus wievielen Wörtern besteht das Vokabular?"
   ]
  },
  {
   "cell_type": "code",
   "execution_count": 49,
   "metadata": {
    "collapsed": false
   },
   "outputs": [
    {
     "name": "stdout",
     "output_type": "stream",
     "text": [
      "22\n"
     ]
    }
   ],
   "source": [
    "print len(getWortSet(text1+text2+text3))"
   ]
  },
  {
   "cell_type": "markdown",
   "metadata": {},
   "source": [
    "## Dictionaries\n",
    "**Aufgaben:**\n",
    "\n",
    "1. Legen Sie für jeden der 3 Texte je ein Dictionary an, das als Keys alle Wörter des gesamten Vokabulars enthält und als Values die Häufigkeit des Worts im jeweiligen Text."
   ]
  },
  {
   "cell_type": "code",
   "execution_count": 109,
   "metadata": {
    "collapsed": false
   },
   "outputs": [
    {
     "name": "stdout",
     "output_type": "stream",
     "text": [
      "{'ipsum': 1, 'amet,': 1, 'sit': 1, 'elit.': 1, 'adipiscing': 1, 'dolor': 3, 'consectetuer': 1, 'lorem': 1}\n",
      "{'commodo': 1, 'eget': 1, 'aenean': 2, 'dolor': 1, 'massa.': 1, 'ligula': 1}\n",
      "{'natoque': 1, 'montes': 1, 'sociis': 1, 'penatibus': 1, 'et': 1, 'cum': 1, 'magnis': 1, 'parturient': 1, 'dis': 1}\n"
     ]
    }
   ],
   "source": [
    "def getWortDict(text):\n",
    "    text = text.lower()\n",
    "    woerter = text.split()\n",
    "    dict = {}\n",
    "\n",
    "    for i in range(0,len(woerter)):\n",
    "        if dict.setdefault(woerter[i],0) >= 0:\n",
    "            dict[woerter[i]] += 1\n",
    "                \n",
    "    return dict\n",
    "                \n",
    "texte=[text1,text2,text3]     \n",
    "for i,text in enumerate(texte):\n",
    "    print getWortDict(text)"
   ]
  },
  {
   "cell_type": "markdown",
   "metadata": {},
   "source": [
    "2. Legen Sie ein verschachteltes Dictionary an, dessen Keys Namen für die drei oben angelegten Texte sind und dessen Values die oben angelegten Dictionarys sind."
   ]
  },
  {
   "cell_type": "code",
   "execution_count": 104,
   "metadata": {
    "collapsed": false
   },
   "outputs": [],
   "source": [
    "alleTexte= {\"text1\": getWortDict(text1), \"text2\": getWortDict(text2), \"text3\": getWortDict(text3)}"
   ]
  },
  {
   "cell_type": "markdown",
   "metadata": {},
   "source": [
    "3. Fragen Sie die Häufigkeit eines im Vokabular enthaltenen Worts in jedem der 3 Texte aus dem verschachtelten Dictionary ab."
   ]
  },
  {
   "cell_type": "code",
   "execution_count": 108,
   "metadata": {
    "collapsed": false
   },
   "outputs": [
    {
     "name": "stdout",
     "output_type": "stream",
     "text": [
      "3\n",
      "1\n",
      "1\n"
     ]
    }
   ],
   "source": [
    "print alleTexte[\"text1\"][\"dolor\"]\n",
    "print alleTexte[\"text2\"][\"dolor\"]\n",
    "print alleTexte[\"text3\"][\"montes\"]"
   ]
  },
  {
   "cell_type": "markdown",
   "metadata": {},
   "source": [
    "## Funktionen\n",
    "**Aufgaben:**\n",
    "1. Schreiben Sie eine Funktion, der eine Liste mit beliebig vielen Texten in Form von Stringvariablen übergeben wird. Aus dieser Liste soll ein verschachteltes Dictionary erzeugt und zurückgegeben werden, das als Keys Namen für die einzelnen Texte enthält und dessen Values Dictionaries sind, welche die Häufigkeit der Vokabularworte in den jeweiligen Texten enthalten (also das gleiche verschachtelte Dictionary, wie in der vorigen Aufgabe für 3 Texte angelegt wurde)."
   ]
  },
  {
   "cell_type": "code",
   "execution_count": 125,
   "metadata": {
    "collapsed": false
   },
   "outputs": [],
   "source": [
    "def getBigDict(*args):\n",
    "    d = {}\n",
    "    for i,arg in enumerate(args):\n",
    "        d.setdefault(\"text\"+str(i),getWortDict(arg))\n",
    "    return d"
   ]
  },
  {
   "cell_type": "markdown",
   "metadata": {},
   "source": [
    "2. Legen Sie eine Liste von Texten (Stringvariablen) an, übergeben Sie diese der oben implementierten Funktion und geben Sie das von der Funktion zurückgegebene verschachtelte Dictionary aus."
   ]
  },
  {
   "cell_type": "code",
   "execution_count": 126,
   "metadata": {
    "collapsed": false
   },
   "outputs": [
    {
     "name": "stdout",
     "output_type": "stream",
     "text": [
      "{'text2': {'natoque': 1, 'montes': 1, 'sociis': 1, 'penatibus': 1, 'et': 1, 'cum': 1, 'magnis': 1, 'parturient': 1, 'dis': 1}, 'text0': {'ipsum': 1, 'amet,': 1, 'sit': 1, 'elit.': 1, 'adipiscing': 1, 'dolor': 3, 'consectetuer': 1, 'lorem': 1}, 'text1': {'commodo': 1, 'eget': 1, 'aenean': 2, 'dolor': 1, 'massa.': 1, 'ligula': 1}}\n"
     ]
    }
   ],
   "source": [
    "print getBigDict(text1,text2,text3)"
   ]
  },
  {
   "cell_type": "markdown",
   "metadata": {},
   "source": [
    "# Numpy: Aufgaben zur Vorbereitung\n",
    "\n",
    "[Numpy Intro IPython Notebook](http://nbviewer.ipython.org/github/jrjohansson/scientific-python-lectures/blob/master/Lecture-2-Numpy.ipynb)\n",
    "\n",
    "1. Wie wird ein eindimensionales, wie ein zweidimensionales Numpy Array angelegt?\n",
    "2. Wie bestimmt man die Größe (Anzahl Zeilen und Anzahl Spalten) eines zweidimensionalen Numpy Arrays?"
   ]
  },
  {
   "cell_type": "code",
   "execution_count": 148,
   "metadata": {
    "collapsed": false
   },
   "outputs": [
    {
     "name": "stdout",
     "output_type": "stream",
     "text": [
      "[1 2 3 4]\n",
      "[[1 2 3]\n",
      " [3 4 5]\n",
      " [1 2 3]\n",
      " [3 4 5]]\n",
      "(4L,)\n",
      "(4L, 3L)\n"
     ]
    }
   ],
   "source": [
    "%matplotlib inline\n",
    "import matplotlib.pyplot as plt\n",
    "\n",
    "from numpy import *\n",
    "\n",
    "v = array([1,2,3,4])\n",
    "\n",
    "print v\n",
    "\n",
    "m = array([[1,2,3],[3,4,5],[1,2,3],[3,4,5]])\n",
    "\n",
    "print m\n",
    "\n",
    "print v.shape\n",
    "print m.shape\n",
    "\n"
   ]
  },
  {
   "cell_type": "markdown",
   "metadata": {},
   "source": [
    "3. Wie werden die Mittelwerte der Spalten eines Numpy Arrays ermittelt, wie werden die Standardabweichungen der Spalten eines Numpy Arrays berechnet?"
   ]
  },
  {
   "cell_type": "code",
   "execution_count": 189,
   "metadata": {
    "collapsed": false
   },
   "outputs": [
    {
     "name": "stdout",
     "output_type": "stream",
     "text": [
      "5.0\n",
      "0.816496580928\n"
     ]
    }
   ],
   "source": [
    "print mean(a[:,2])\n",
    "print std(a[1,:])"
   ]
  },
  {
   "cell_type": "markdown",
   "metadata": {},
   "source": [
    "4. Wie können die Daten aus einem .csv File direkt in ein Numpy-Array eingelesen werden?"
   ]
  },
  {
   "cell_type": "code",
   "execution_count": 140,
   "metadata": {
    "collapsed": false
   },
   "outputs": [],
   "source": [
    "# data = genfromtxt('BEISPIEL NAME')"
   ]
  },
  {
   "cell_type": "markdown",
   "metadata": {},
   "source": [
    "5. Wie kann ein Numpy Array effizient in einem File abgespeichert werden? Wie können diese Daten aus dem File wieder in ein Numpy Array gelesen werden?"
   ]
  },
  {
   "cell_type": "code",
   "execution_count": null,
   "metadata": {
    "collapsed": true
   },
   "outputs": [],
   "source": [
    "# SAVE save(\"BEISPIEL.npy\", M)\n",
    "# LOAD load(\"BEISPIEL.npy\")"
   ]
  },
  {
   "cell_type": "markdown",
   "metadata": {},
   "source": [
    "6. Wie kann auf das Element in Zeile 1, Spalte 2 eines Numpy Arrays zugegriffen werden?"
   ]
  },
  {
   "cell_type": "code",
   "execution_count": null,
   "metadata": {
    "collapsed": true
   },
   "outputs": [],
   "source": [
    "print m[0,1]"
   ]
  },
  {
   "cell_type": "markdown",
   "metadata": {},
   "source": [
    "7. Wie kann auf die zweite Zeile eines Numpy-Arrays zugegriffen werden?"
   ]
  },
  {
   "cell_type": "code",
   "execution_count": 144,
   "metadata": {
    "collapsed": false
   },
   "outputs": [
    {
     "name": "stdout",
     "output_type": "stream",
     "text": [
      "[2 4]\n"
     ]
    }
   ],
   "source": [
    "print m[:,1]"
   ]
  },
  {
   "cell_type": "markdown",
   "metadata": {},
   "source": [
    "8. Wie kann auf die Spalten 2 bis 4 eines Numpy-Arrays zugegriffen werden?"
   ]
  },
  {
   "cell_type": "code",
   "execution_count": 149,
   "metadata": {
    "collapsed": false
   },
   "outputs": [
    {
     "name": "stdout",
     "output_type": "stream",
     "text": [
      "[[3]\n",
      " [5]\n",
      " [3]\n",
      " [5]]\n"
     ]
    }
   ],
   "source": [
    "print m[:,2:4]"
   ]
  },
  {
   "cell_type": "markdown",
   "metadata": {},
   "source": [
    "8. Wie kann das Skalarprodukt zweier eindimensionaler Numpy-Arrays bestimmt werden? "
   ]
  },
  {
   "cell_type": "code",
   "execution_count": 154,
   "metadata": {
    "collapsed": false
   },
   "outputs": [
    {
     "data": {
      "text/plain": [
       "217"
      ]
     },
     "execution_count": 154,
     "metadata": {},
     "output_type": "execute_result"
    }
   ],
   "source": [
    "a = array([1,2,3,4,5,6])\n",
    "b = array([7,8,9,10,11,12])\n",
    "\n",
    "dot(a,b)"
   ]
  },
  {
   "cell_type": "markdown",
   "metadata": {},
   "source": [
    "9. Wie kann ein zweidimensionales Numpy-Array mit einem anderen zweidimensionales Numpy-Array multipliziert werden (im Sinne einer Matrixmultiplikation)? "
   ]
  },
  {
   "cell_type": "code",
   "execution_count": 164,
   "metadata": {
    "collapsed": false
   },
   "outputs": [
    {
     "name": "stdout",
     "output_type": "stream",
     "text": [
      "[[ 20  23]\n",
      " [140 163]]\n"
     ]
    }
   ],
   "source": [
    "a = array([[1,2],[11,12]])\n",
    "b = array([[4,5],[8,9]])\n",
    "\n",
    "print dot(a,b)"
   ]
  },
  {
   "cell_type": "markdown",
   "metadata": {},
   "source": [
    "10. Wie kann ein eindimensionales Numpy Array mit einem zweidimensionalen Numpy Array multipliziert werden?"
   ]
  },
  {
   "cell_type": "code",
   "execution_count": 165,
   "metadata": {
    "collapsed": false
   },
   "outputs": [
    {
     "name": "stdout",
     "output_type": "stream",
     "text": [
      "[20 23]\n"
     ]
    }
   ],
   "source": [
    "a = array([1,2])\n",
    "b = array([[4,5],[8,9]])\n",
    "\n",
    "print dot(a,b)"
   ]
  },
  {
   "cell_type": "markdown",
   "metadata": {},
   "source": [
    "11. Wie können Zeilen oder Spalten eines Numpy Arrays hinsichtlich ihrer Werte ansteigend oder absteigend sortiert werden?"
   ]
  },
  {
   "cell_type": "code",
   "execution_count": 178,
   "metadata": {
    "collapsed": false
   },
   "outputs": [
    {
     "name": "stdout",
     "output_type": "stream",
     "text": [
      "[[1 4]\n",
      " [1 3]]\n",
      "[[1 3]\n",
      " [1 4]]\n"
     ]
    }
   ],
   "source": [
    "a = array([[1,4], [3,1]])\n",
    "a.sort(axis=1)\n",
    "print a\n",
    "\n",
    "a.sort(axis=0)\n",
    "print a"
   ]
  },
  {
   "cell_type": "markdown",
   "metadata": {},
   "source": [
    "# Scipy: Aufgaben zur Vorbereitung\n",
    "\n",
    "[SciPy Intro IPython Notebook](http://nbviewer.ipython.org/github/jrjohansson/scientific-python-lectures/blob/master/Lecture-3-Scipy.ipynb)\n",
    "\n",
    "Machen Sie sich mit den Funktionen des Moduls [Scipy.spatial.distance](http://docs.scipy.org/doc/scipy-0.14.0/reference/spatial.distance.html#module-scipy.spatial.distance) vertraut.\n",
    "\n",
    "1. Wie wird die paarweise euklidische Distanz zwischen den Zeilen eines Numpy Array berechnet?"
   ]
  },
  {
   "cell_type": "code",
   "execution_count": 191,
   "metadata": {
    "collapsed": false
   },
   "outputs": [
    {
     "name": "stdout",
     "output_type": "stream",
     "text": [
      "7.0\n"
     ]
    }
   ],
   "source": [
    "# what is this line all about? Answer in lecture 4\n",
    "%matplotlib inline\n",
    "import matplotlib.pyplot as plt\n",
    "from scipy import *\n",
    "from scipy.spatial import distance\n",
    "\n",
    "a = array([[1,2],[9,8]])\n",
    "\n",
    "print distance.euclidean(a[:,0], a[0,:])\n"
   ]
  },
  {
   "cell_type": "markdown",
   "metadata": {},
   "source": [
    "Machen Sie sich mit den Funktionen des Moduls [Scipy.cluster.hierarchy](http://docs.scipy.org/doc/scipy/reference/cluster.hierarchy.html) vertraut.\n",
    "\n",
    "1. Wie wird mit diesem Modul ein hierarchisches Clustering von Vektoren berechnet und visualisiert?\n",
    "2. Welche Bedeutung haben die Parameter _method_ und _metric_ der Funktion _linkage_?  "
   ]
  },
  {
   "cell_type": "code",
   "execution_count": 14,
   "metadata": {
    "collapsed": true
   },
   "outputs": [],
   "source": [
    "def stripCopiedCode(s):\n",
    "    b = string.replace(s, \">>> \", \"\")\n",
    "    print string.replace(b, \"...                    \", \"\")\n",
    "    return"
   ]
  },
  {
   "cell_type": "code",
   "execution_count": 2,
   "metadata": {
    "collapsed": false
   },
   "outputs": [],
   "source": [
    "import matplotlib.pyplot as plt\n",
    "from scipy.cluster import hierarchy\n",
    "from numpy import *\n",
    "import string\n",
    "import numpy\n",
    "\n",
    "\n",
    "y = random.rand(1000,5)\n",
    "\n",
    "Z = hierarchy.linkage(y, 'single')\n",
    "plt.figure()\n",
    "dn = hierarchy.dendrogram(Z)\n",
    "hierarchy.set_link_color_palette(['m', 'c', 'y', 'k'])\n",
    "fig, axes = plt.subplots(1, 2, figsize=(8, 3))\n",
    "dn1 = hierarchy.dendrogram(Z, ax=axes[0], above_threshold_color='y',\n",
    "        orientation='top')\n",
    "dn2 = hierarchy.dendrogram(Z, ax=axes[1], above_threshold_color='#bcbddc',\n",
    "        orientation='right')\n",
    "hierarchy.set_link_color_palette(None)  # reset to default after use\n",
    "plt.show()"
   ]
  },
  {
   "cell_type": "markdown",
   "metadata": {},
   "source": [
    "# Matplotlib: Aufgaben zur Vorbereitung\n",
    "\n",
    "[Matplotlib Intro IPython Notebook](http://nbviewer.ipython.org/github/jrjohansson/scientific-python-lectures/blob/master/Lecture-4-Matplotlib.ipynb)\n",
    "\n",
    "1. Machen Sie sich anhand des oben verlinkten Matplotlib mit den grundlegenden Plotting Funktionen dieses Pakets vertraut."
   ]
  },
  {
   "cell_type": "code",
   "execution_count": 3,
   "metadata": {
    "collapsed": false,
    "scrolled": true
   },
   "outputs": [
    {
     "data": {
      "application/javascript": [
       "/* Put everything inside the global mpl namespace */\n",
       "window.mpl = {};\n",
       "\n",
       "mpl.get_websocket_type = function() {\n",
       "    if (typeof(WebSocket) !== 'undefined') {\n",
       "        return WebSocket;\n",
       "    } else if (typeof(MozWebSocket) !== 'undefined') {\n",
       "        return MozWebSocket;\n",
       "    } else {\n",
       "        alert('Your browser does not have WebSocket support.' +\n",
       "              'Please try Chrome, Safari or Firefox ≥ 6. ' +\n",
       "              'Firefox 4 and 5 are also supported but you ' +\n",
       "              'have to enable WebSockets in about:config.');\n",
       "    };\n",
       "}\n",
       "\n",
       "mpl.figure = function(figure_id, websocket, ondownload, parent_element) {\n",
       "    this.id = figure_id;\n",
       "\n",
       "    this.ws = websocket;\n",
       "\n",
       "    this.supports_binary = (this.ws.binaryType != undefined);\n",
       "\n",
       "    if (!this.supports_binary) {\n",
       "        var warnings = document.getElementById(\"mpl-warnings\");\n",
       "        if (warnings) {\n",
       "            warnings.style.display = 'block';\n",
       "            warnings.textContent = (\n",
       "                \"This browser does not support binary websocket messages. \" +\n",
       "                    \"Performance may be slow.\");\n",
       "        }\n",
       "    }\n",
       "\n",
       "    this.imageObj = new Image();\n",
       "\n",
       "    this.context = undefined;\n",
       "    this.message = undefined;\n",
       "    this.canvas = undefined;\n",
       "    this.rubberband_canvas = undefined;\n",
       "    this.rubberband_context = undefined;\n",
       "    this.format_dropdown = undefined;\n",
       "\n",
       "    this.image_mode = 'full';\n",
       "\n",
       "    this.root = $('<div/>');\n",
       "    this._root_extra_style(this.root)\n",
       "    this.root.attr('style', 'display: inline-block');\n",
       "\n",
       "    $(parent_element).append(this.root);\n",
       "\n",
       "    this._init_header(this);\n",
       "    this._init_canvas(this);\n",
       "    this._init_toolbar(this);\n",
       "\n",
       "    var fig = this;\n",
       "\n",
       "    this.waiting = false;\n",
       "\n",
       "    this.ws.onopen =  function () {\n",
       "            fig.send_message(\"supports_binary\", {value: fig.supports_binary});\n",
       "            fig.send_message(\"send_image_mode\", {});\n",
       "            fig.send_message(\"refresh\", {});\n",
       "        }\n",
       "\n",
       "    this.imageObj.onload = function() {\n",
       "            if (fig.image_mode == 'full') {\n",
       "                // Full images could contain transparency (where diff images\n",
       "                // almost always do), so we need to clear the canvas so that\n",
       "                // there is no ghosting.\n",
       "                fig.context.clearRect(0, 0, fig.canvas.width, fig.canvas.height);\n",
       "            }\n",
       "            fig.context.drawImage(fig.imageObj, 0, 0);\n",
       "        };\n",
       "\n",
       "    this.imageObj.onunload = function() {\n",
       "        this.ws.close();\n",
       "    }\n",
       "\n",
       "    this.ws.onmessage = this._make_on_message_function(this);\n",
       "\n",
       "    this.ondownload = ondownload;\n",
       "}\n",
       "\n",
       "mpl.figure.prototype._init_header = function() {\n",
       "    var titlebar = $(\n",
       "        '<div class=\"ui-dialog-titlebar ui-widget-header ui-corner-all ' +\n",
       "        'ui-helper-clearfix\"/>');\n",
       "    var titletext = $(\n",
       "        '<div class=\"ui-dialog-title\" style=\"width: 100%; ' +\n",
       "        'text-align: center; padding: 3px;\"/>');\n",
       "    titlebar.append(titletext)\n",
       "    this.root.append(titlebar);\n",
       "    this.header = titletext[0];\n",
       "}\n",
       "\n",
       "\n",
       "\n",
       "mpl.figure.prototype._canvas_extra_style = function(canvas_div) {\n",
       "\n",
       "}\n",
       "\n",
       "\n",
       "mpl.figure.prototype._root_extra_style = function(canvas_div) {\n",
       "\n",
       "}\n",
       "\n",
       "mpl.figure.prototype._init_canvas = function() {\n",
       "    var fig = this;\n",
       "\n",
       "    var canvas_div = $('<div/>');\n",
       "\n",
       "    canvas_div.attr('style', 'position: relative; clear: both; outline: 0');\n",
       "\n",
       "    function canvas_keyboard_event(event) {\n",
       "        return fig.key_event(event, event['data']);\n",
       "    }\n",
       "\n",
       "    canvas_div.keydown('key_press', canvas_keyboard_event);\n",
       "    canvas_div.keyup('key_release', canvas_keyboard_event);\n",
       "    this.canvas_div = canvas_div\n",
       "    this._canvas_extra_style(canvas_div)\n",
       "    this.root.append(canvas_div);\n",
       "\n",
       "    var canvas = $('<canvas/>');\n",
       "    canvas.addClass('mpl-canvas');\n",
       "    canvas.attr('style', \"left: 0; top: 0; z-index: 0; outline: 0\")\n",
       "\n",
       "    this.canvas = canvas[0];\n",
       "    this.context = canvas[0].getContext(\"2d\");\n",
       "\n",
       "    var rubberband = $('<canvas/>');\n",
       "    rubberband.attr('style', \"position: absolute; left: 0; top: 0; z-index: 1;\")\n",
       "\n",
       "    var pass_mouse_events = true;\n",
       "\n",
       "    canvas_div.resizable({\n",
       "        start: function(event, ui) {\n",
       "            pass_mouse_events = false;\n",
       "        },\n",
       "        resize: function(event, ui) {\n",
       "            fig.request_resize(ui.size.width, ui.size.height);\n",
       "        },\n",
       "        stop: function(event, ui) {\n",
       "            pass_mouse_events = true;\n",
       "            fig.request_resize(ui.size.width, ui.size.height);\n",
       "        },\n",
       "    });\n",
       "\n",
       "    function mouse_event_fn(event) {\n",
       "        if (pass_mouse_events)\n",
       "            return fig.mouse_event(event, event['data']);\n",
       "    }\n",
       "\n",
       "    rubberband.mousedown('button_press', mouse_event_fn);\n",
       "    rubberband.mouseup('button_release', mouse_event_fn);\n",
       "    // Throttle sequential mouse events to 1 every 20ms.\n",
       "    rubberband.mousemove('motion_notify', mouse_event_fn);\n",
       "\n",
       "    rubberband.mouseenter('figure_enter', mouse_event_fn);\n",
       "    rubberband.mouseleave('figure_leave', mouse_event_fn);\n",
       "\n",
       "    canvas_div.on(\"wheel\", function (event) {\n",
       "        event = event.originalEvent;\n",
       "        event['data'] = 'scroll'\n",
       "        if (event.deltaY < 0) {\n",
       "            event.step = 1;\n",
       "        } else {\n",
       "            event.step = -1;\n",
       "        }\n",
       "        mouse_event_fn(event);\n",
       "    });\n",
       "\n",
       "    canvas_div.append(canvas);\n",
       "    canvas_div.append(rubberband);\n",
       "\n",
       "    this.rubberband = rubberband;\n",
       "    this.rubberband_canvas = rubberband[0];\n",
       "    this.rubberband_context = rubberband[0].getContext(\"2d\");\n",
       "    this.rubberband_context.strokeStyle = \"#000000\";\n",
       "\n",
       "    this._resize_canvas = function(width, height) {\n",
       "        // Keep the size of the canvas, canvas container, and rubber band\n",
       "        // canvas in synch.\n",
       "        canvas_div.css('width', width)\n",
       "        canvas_div.css('height', height)\n",
       "\n",
       "        canvas.attr('width', width);\n",
       "        canvas.attr('height', height);\n",
       "\n",
       "        rubberband.attr('width', width);\n",
       "        rubberband.attr('height', height);\n",
       "    }\n",
       "\n",
       "    // Set the figure to an initial 600x600px, this will subsequently be updated\n",
       "    // upon first draw.\n",
       "    this._resize_canvas(600, 600);\n",
       "\n",
       "    // Disable right mouse context menu.\n",
       "    $(this.rubberband_canvas).bind(\"contextmenu\",function(e){\n",
       "        return false;\n",
       "    });\n",
       "\n",
       "    function set_focus () {\n",
       "        canvas.focus();\n",
       "        canvas_div.focus();\n",
       "    }\n",
       "\n",
       "    window.setTimeout(set_focus, 100);\n",
       "}\n",
       "\n",
       "mpl.figure.prototype._init_toolbar = function() {\n",
       "    var fig = this;\n",
       "\n",
       "    var nav_element = $('<div/>')\n",
       "    nav_element.attr('style', 'width: 100%');\n",
       "    this.root.append(nav_element);\n",
       "\n",
       "    // Define a callback function for later on.\n",
       "    function toolbar_event(event) {\n",
       "        return fig.toolbar_button_onclick(event['data']);\n",
       "    }\n",
       "    function toolbar_mouse_event(event) {\n",
       "        return fig.toolbar_button_onmouseover(event['data']);\n",
       "    }\n",
       "\n",
       "    for(var toolbar_ind in mpl.toolbar_items) {\n",
       "        var name = mpl.toolbar_items[toolbar_ind][0];\n",
       "        var tooltip = mpl.toolbar_items[toolbar_ind][1];\n",
       "        var image = mpl.toolbar_items[toolbar_ind][2];\n",
       "        var method_name = mpl.toolbar_items[toolbar_ind][3];\n",
       "\n",
       "        if (!name) {\n",
       "            // put a spacer in here.\n",
       "            continue;\n",
       "        }\n",
       "        var button = $('<button/>');\n",
       "        button.addClass('ui-button ui-widget ui-state-default ui-corner-all ' +\n",
       "                        'ui-button-icon-only');\n",
       "        button.attr('role', 'button');\n",
       "        button.attr('aria-disabled', 'false');\n",
       "        button.click(method_name, toolbar_event);\n",
       "        button.mouseover(tooltip, toolbar_mouse_event);\n",
       "\n",
       "        var icon_img = $('<span/>');\n",
       "        icon_img.addClass('ui-button-icon-primary ui-icon');\n",
       "        icon_img.addClass(image);\n",
       "        icon_img.addClass('ui-corner-all');\n",
       "\n",
       "        var tooltip_span = $('<span/>');\n",
       "        tooltip_span.addClass('ui-button-text');\n",
       "        tooltip_span.html(tooltip);\n",
       "\n",
       "        button.append(icon_img);\n",
       "        button.append(tooltip_span);\n",
       "\n",
       "        nav_element.append(button);\n",
       "    }\n",
       "\n",
       "    var fmt_picker_span = $('<span/>');\n",
       "\n",
       "    var fmt_picker = $('<select/>');\n",
       "    fmt_picker.addClass('mpl-toolbar-option ui-widget ui-widget-content');\n",
       "    fmt_picker_span.append(fmt_picker);\n",
       "    nav_element.append(fmt_picker_span);\n",
       "    this.format_dropdown = fmt_picker[0];\n",
       "\n",
       "    for (var ind in mpl.extensions) {\n",
       "        var fmt = mpl.extensions[ind];\n",
       "        var option = $(\n",
       "            '<option/>', {selected: fmt === mpl.default_extension}).html(fmt);\n",
       "        fmt_picker.append(option)\n",
       "    }\n",
       "\n",
       "    // Add hover states to the ui-buttons\n",
       "    $( \".ui-button\" ).hover(\n",
       "        function() { $(this).addClass(\"ui-state-hover\");},\n",
       "        function() { $(this).removeClass(\"ui-state-hover\");}\n",
       "    );\n",
       "\n",
       "    var status_bar = $('<span class=\"mpl-message\"/>');\n",
       "    nav_element.append(status_bar);\n",
       "    this.message = status_bar[0];\n",
       "}\n",
       "\n",
       "mpl.figure.prototype.request_resize = function(x_pixels, y_pixels) {\n",
       "    // Request matplotlib to resize the figure. Matplotlib will then trigger a resize in the client,\n",
       "    // which will in turn request a refresh of the image.\n",
       "    this.send_message('resize', {'width': x_pixels, 'height': y_pixels});\n",
       "}\n",
       "\n",
       "mpl.figure.prototype.send_message = function(type, properties) {\n",
       "    properties['type'] = type;\n",
       "    properties['figure_id'] = this.id;\n",
       "    this.ws.send(JSON.stringify(properties));\n",
       "}\n",
       "\n",
       "mpl.figure.prototype.send_draw_message = function() {\n",
       "    if (!this.waiting) {\n",
       "        this.waiting = true;\n",
       "        this.ws.send(JSON.stringify({type: \"draw\", figure_id: this.id}));\n",
       "    }\n",
       "}\n",
       "\n",
       "\n",
       "mpl.figure.prototype.handle_save = function(fig, msg) {\n",
       "    var format_dropdown = fig.format_dropdown;\n",
       "    var format = format_dropdown.options[format_dropdown.selectedIndex].value;\n",
       "    fig.ondownload(fig, format);\n",
       "}\n",
       "\n",
       "\n",
       "mpl.figure.prototype.handle_resize = function(fig, msg) {\n",
       "    var size = msg['size'];\n",
       "    if (size[0] != fig.canvas.width || size[1] != fig.canvas.height) {\n",
       "        fig._resize_canvas(size[0], size[1]);\n",
       "        fig.send_message(\"refresh\", {});\n",
       "    };\n",
       "}\n",
       "\n",
       "mpl.figure.prototype.handle_rubberband = function(fig, msg) {\n",
       "    var x0 = msg['x0'];\n",
       "    var y0 = fig.canvas.height - msg['y0'];\n",
       "    var x1 = msg['x1'];\n",
       "    var y1 = fig.canvas.height - msg['y1'];\n",
       "    x0 = Math.floor(x0) + 0.5;\n",
       "    y0 = Math.floor(y0) + 0.5;\n",
       "    x1 = Math.floor(x1) + 0.5;\n",
       "    y1 = Math.floor(y1) + 0.5;\n",
       "    var min_x = Math.min(x0, x1);\n",
       "    var min_y = Math.min(y0, y1);\n",
       "    var width = Math.abs(x1 - x0);\n",
       "    var height = Math.abs(y1 - y0);\n",
       "\n",
       "    fig.rubberband_context.clearRect(\n",
       "        0, 0, fig.canvas.width, fig.canvas.height);\n",
       "\n",
       "    fig.rubberband_context.strokeRect(min_x, min_y, width, height);\n",
       "}\n",
       "\n",
       "mpl.figure.prototype.handle_figure_label = function(fig, msg) {\n",
       "    // Updates the figure title.\n",
       "    fig.header.textContent = msg['label'];\n",
       "}\n",
       "\n",
       "mpl.figure.prototype.handle_cursor = function(fig, msg) {\n",
       "    var cursor = msg['cursor'];\n",
       "    switch(cursor)\n",
       "    {\n",
       "    case 0:\n",
       "        cursor = 'pointer';\n",
       "        break;\n",
       "    case 1:\n",
       "        cursor = 'default';\n",
       "        break;\n",
       "    case 2:\n",
       "        cursor = 'crosshair';\n",
       "        break;\n",
       "    case 3:\n",
       "        cursor = 'move';\n",
       "        break;\n",
       "    }\n",
       "    fig.rubberband_canvas.style.cursor = cursor;\n",
       "}\n",
       "\n",
       "mpl.figure.prototype.handle_message = function(fig, msg) {\n",
       "    fig.message.textContent = msg['message'];\n",
       "}\n",
       "\n",
       "mpl.figure.prototype.handle_draw = function(fig, msg) {\n",
       "    // Request the server to send over a new figure.\n",
       "    fig.send_draw_message();\n",
       "}\n",
       "\n",
       "mpl.figure.prototype.handle_image_mode = function(fig, msg) {\n",
       "    fig.image_mode = msg['mode'];\n",
       "}\n",
       "\n",
       "mpl.figure.prototype.updated_canvas_event = function() {\n",
       "    // Called whenever the canvas gets updated.\n",
       "    this.send_message(\"ack\", {});\n",
       "}\n",
       "\n",
       "// A function to construct a web socket function for onmessage handling.\n",
       "// Called in the figure constructor.\n",
       "mpl.figure.prototype._make_on_message_function = function(fig) {\n",
       "    return function socket_on_message(evt) {\n",
       "        if (evt.data instanceof Blob) {\n",
       "            /* FIXME: We get \"Resource interpreted as Image but\n",
       "             * transferred with MIME type text/plain:\" errors on\n",
       "             * Chrome.  But how to set the MIME type?  It doesn't seem\n",
       "             * to be part of the websocket stream */\n",
       "            evt.data.type = \"image/png\";\n",
       "\n",
       "            /* Free the memory for the previous frames */\n",
       "            if (fig.imageObj.src) {\n",
       "                (window.URL || window.webkitURL).revokeObjectURL(\n",
       "                    fig.imageObj.src);\n",
       "            }\n",
       "\n",
       "            fig.imageObj.src = (window.URL || window.webkitURL).createObjectURL(\n",
       "                evt.data);\n",
       "            fig.updated_canvas_event();\n",
       "            fig.waiting = false;\n",
       "            return;\n",
       "        }\n",
       "        else if (typeof evt.data === 'string' && evt.data.slice(0, 21) == \"data:image/png;base64\") {\n",
       "            fig.imageObj.src = evt.data;\n",
       "            fig.updated_canvas_event();\n",
       "            fig.waiting = false;\n",
       "            return;\n",
       "        }\n",
       "\n",
       "        var msg = JSON.parse(evt.data);\n",
       "        var msg_type = msg['type'];\n",
       "\n",
       "        // Call the  \"handle_{type}\" callback, which takes\n",
       "        // the figure and JSON message as its only arguments.\n",
       "        try {\n",
       "            var callback = fig[\"handle_\" + msg_type];\n",
       "        } catch (e) {\n",
       "            console.log(\"No handler for the '\" + msg_type + \"' message type: \", msg);\n",
       "            return;\n",
       "        }\n",
       "\n",
       "        if (callback) {\n",
       "            try {\n",
       "                // console.log(\"Handling '\" + msg_type + \"' message: \", msg);\n",
       "                callback(fig, msg);\n",
       "            } catch (e) {\n",
       "                console.log(\"Exception inside the 'handler_\" + msg_type + \"' callback:\", e, e.stack, msg);\n",
       "            }\n",
       "        }\n",
       "    };\n",
       "}\n",
       "\n",
       "// from http://stackoverflow.com/questions/1114465/getting-mouse-location-in-canvas\n",
       "mpl.findpos = function(e) {\n",
       "    //this section is from http://www.quirksmode.org/js/events_properties.html\n",
       "    var targ;\n",
       "    if (!e)\n",
       "        e = window.event;\n",
       "    if (e.target)\n",
       "        targ = e.target;\n",
       "    else if (e.srcElement)\n",
       "        targ = e.srcElement;\n",
       "    if (targ.nodeType == 3) // defeat Safari bug\n",
       "        targ = targ.parentNode;\n",
       "\n",
       "    // jQuery normalizes the pageX and pageY\n",
       "    // pageX,Y are the mouse positions relative to the document\n",
       "    // offset() returns the position of the element relative to the document\n",
       "    var x = e.pageX - $(targ).offset().left;\n",
       "    var y = e.pageY - $(targ).offset().top;\n",
       "\n",
       "    return {\"x\": x, \"y\": y};\n",
       "};\n",
       "\n",
       "/*\n",
       " * return a copy of an object with only non-object keys\n",
       " * we need this to avoid circular references\n",
       " * http://stackoverflow.com/a/24161582/3208463\n",
       " */\n",
       "function simpleKeys (original) {\n",
       "  return Object.keys(original).reduce(function (obj, key) {\n",
       "    if (typeof original[key] !== 'object')\n",
       "        obj[key] = original[key]\n",
       "    return obj;\n",
       "  }, {});\n",
       "}\n",
       "\n",
       "mpl.figure.prototype.mouse_event = function(event, name) {\n",
       "    var canvas_pos = mpl.findpos(event)\n",
       "\n",
       "    if (name === 'button_press')\n",
       "    {\n",
       "        this.canvas.focus();\n",
       "        this.canvas_div.focus();\n",
       "    }\n",
       "\n",
       "    var x = canvas_pos.x;\n",
       "    var y = canvas_pos.y;\n",
       "\n",
       "    this.send_message(name, {x: x, y: y, button: event.button,\n",
       "                             step: event.step,\n",
       "                             guiEvent: simpleKeys(event)});\n",
       "\n",
       "    /* This prevents the web browser from automatically changing to\n",
       "     * the text insertion cursor when the button is pressed.  We want\n",
       "     * to control all of the cursor setting manually through the\n",
       "     * 'cursor' event from matplotlib */\n",
       "    event.preventDefault();\n",
       "    return false;\n",
       "}\n",
       "\n",
       "mpl.figure.prototype._key_event_extra = function(event, name) {\n",
       "    // Handle any extra behaviour associated with a key event\n",
       "}\n",
       "\n",
       "mpl.figure.prototype.key_event = function(event, name) {\n",
       "\n",
       "    // Prevent repeat events\n",
       "    if (name == 'key_press')\n",
       "    {\n",
       "        if (event.which === this._key)\n",
       "            return;\n",
       "        else\n",
       "            this._key = event.which;\n",
       "    }\n",
       "    if (name == 'key_release')\n",
       "        this._key = null;\n",
       "\n",
       "    var value = '';\n",
       "    if (event.ctrlKey && event.which != 17)\n",
       "        value += \"ctrl+\";\n",
       "    if (event.altKey && event.which != 18)\n",
       "        value += \"alt+\";\n",
       "    if (event.shiftKey && event.which != 16)\n",
       "        value += \"shift+\";\n",
       "\n",
       "    value += 'k';\n",
       "    value += event.which.toString();\n",
       "\n",
       "    this._key_event_extra(event, name);\n",
       "\n",
       "    this.send_message(name, {key: value,\n",
       "                             guiEvent: simpleKeys(event)});\n",
       "    return false;\n",
       "}\n",
       "\n",
       "mpl.figure.prototype.toolbar_button_onclick = function(name) {\n",
       "    if (name == 'download') {\n",
       "        this.handle_save(this, null);\n",
       "    } else {\n",
       "        this.send_message(\"toolbar_button\", {name: name});\n",
       "    }\n",
       "};\n",
       "\n",
       "mpl.figure.prototype.toolbar_button_onmouseover = function(tooltip) {\n",
       "    this.message.textContent = tooltip;\n",
       "};\n",
       "mpl.toolbar_items = [[\"Home\", \"Reset original view\", \"fa fa-home icon-home\", \"home\"], [\"Back\", \"Back to  previous view\", \"fa fa-arrow-left icon-arrow-left\", \"back\"], [\"Forward\", \"Forward to next view\", \"fa fa-arrow-right icon-arrow-right\", \"forward\"], [\"\", \"\", \"\", \"\"], [\"Pan\", \"Pan axes with left mouse, zoom with right\", \"fa fa-arrows icon-move\", \"pan\"], [\"Zoom\", \"Zoom to rectangle\", \"fa fa-square-o icon-check-empty\", \"zoom\"], [\"\", \"\", \"\", \"\"], [\"Download\", \"Download plot\", \"fa fa-floppy-o icon-save\", \"download\"]];\n",
       "\n",
       "mpl.extensions = [\"eps\", \"jpeg\", \"pdf\", \"png\", \"ps\", \"raw\", \"svg\", \"tif\"];\n",
       "\n",
       "mpl.default_extension = \"png\";var comm_websocket_adapter = function(comm) {\n",
       "    // Create a \"websocket\"-like object which calls the given IPython comm\n",
       "    // object with the appropriate methods. Currently this is a non binary\n",
       "    // socket, so there is still some room for performance tuning.\n",
       "    var ws = {};\n",
       "\n",
       "    ws.close = function() {\n",
       "        comm.close()\n",
       "    };\n",
       "    ws.send = function(m) {\n",
       "        //console.log('sending', m);\n",
       "        comm.send(m);\n",
       "    };\n",
       "    // Register the callback with on_msg.\n",
       "    comm.on_msg(function(msg) {\n",
       "        //console.log('receiving', msg['content']['data'], msg);\n",
       "        // Pass the mpl event to the overriden (by mpl) onmessage function.\n",
       "        ws.onmessage(msg['content']['data'])\n",
       "    });\n",
       "    return ws;\n",
       "}\n",
       "\n",
       "mpl.mpl_figure_comm = function(comm, msg) {\n",
       "    // This is the function which gets called when the mpl process\n",
       "    // starts-up an IPython Comm through the \"matplotlib\" channel.\n",
       "\n",
       "    var id = msg.content.data.id;\n",
       "    // Get hold of the div created by the display call when the Comm\n",
       "    // socket was opened in Python.\n",
       "    var element = $(\"#\" + id);\n",
       "    var ws_proxy = comm_websocket_adapter(comm)\n",
       "\n",
       "    function ondownload(figure, format) {\n",
       "        window.open(figure.imageObj.src);\n",
       "    }\n",
       "\n",
       "    var fig = new mpl.figure(id, ws_proxy,\n",
       "                           ondownload,\n",
       "                           element.get(0));\n",
       "\n",
       "    // Call onopen now - mpl needs it, as it is assuming we've passed it a real\n",
       "    // web socket which is closed, not our websocket->open comm proxy.\n",
       "    ws_proxy.onopen();\n",
       "\n",
       "    fig.parent_element = element.get(0);\n",
       "    fig.cell_info = mpl.find_output_cell(\"<div id='\" + id + \"'></div>\");\n",
       "    if (!fig.cell_info) {\n",
       "        console.error(\"Failed to find cell for figure\", id, fig);\n",
       "        return;\n",
       "    }\n",
       "\n",
       "    var output_index = fig.cell_info[2]\n",
       "    var cell = fig.cell_info[0];\n",
       "\n",
       "};\n",
       "\n",
       "mpl.figure.prototype.handle_close = function(fig, msg) {\n",
       "    fig.root.unbind('remove')\n",
       "\n",
       "    // Update the output cell to use the data from the current canvas.\n",
       "    fig.push_to_output();\n",
       "    var dataURL = fig.canvas.toDataURL();\n",
       "    // Re-enable the keyboard manager in IPython - without this line, in FF,\n",
       "    // the notebook keyboard shortcuts fail.\n",
       "    IPython.keyboard_manager.enable()\n",
       "    $(fig.parent_element).html('<img src=\"' + dataURL + '\">');\n",
       "    fig.close_ws(fig, msg);\n",
       "}\n",
       "\n",
       "mpl.figure.prototype.close_ws = function(fig, msg){\n",
       "    fig.send_message('closing', msg);\n",
       "    // fig.ws.close()\n",
       "}\n",
       "\n",
       "mpl.figure.prototype.push_to_output = function(remove_interactive) {\n",
       "    // Turn the data on the canvas into data in the output cell.\n",
       "    var dataURL = this.canvas.toDataURL();\n",
       "    this.cell_info[1]['text/html'] = '<img src=\"' + dataURL + '\">';\n",
       "}\n",
       "\n",
       "mpl.figure.prototype.updated_canvas_event = function() {\n",
       "    // Tell IPython that the notebook contents must change.\n",
       "    IPython.notebook.set_dirty(true);\n",
       "    this.send_message(\"ack\", {});\n",
       "    var fig = this;\n",
       "    // Wait a second, then push the new image to the DOM so\n",
       "    // that it is saved nicely (might be nice to debounce this).\n",
       "    setTimeout(function () { fig.push_to_output() }, 1000);\n",
       "}\n",
       "\n",
       "mpl.figure.prototype._init_toolbar = function() {\n",
       "    var fig = this;\n",
       "\n",
       "    var nav_element = $('<div/>')\n",
       "    nav_element.attr('style', 'width: 100%');\n",
       "    this.root.append(nav_element);\n",
       "\n",
       "    // Define a callback function for later on.\n",
       "    function toolbar_event(event) {\n",
       "        return fig.toolbar_button_onclick(event['data']);\n",
       "    }\n",
       "    function toolbar_mouse_event(event) {\n",
       "        return fig.toolbar_button_onmouseover(event['data']);\n",
       "    }\n",
       "\n",
       "    for(var toolbar_ind in mpl.toolbar_items){\n",
       "        var name = mpl.toolbar_items[toolbar_ind][0];\n",
       "        var tooltip = mpl.toolbar_items[toolbar_ind][1];\n",
       "        var image = mpl.toolbar_items[toolbar_ind][2];\n",
       "        var method_name = mpl.toolbar_items[toolbar_ind][3];\n",
       "\n",
       "        if (!name) { continue; };\n",
       "\n",
       "        var button = $('<button class=\"btn btn-default\" href=\"#\" title=\"' + name + '\"><i class=\"fa ' + image + ' fa-lg\"></i></button>');\n",
       "        button.click(method_name, toolbar_event);\n",
       "        button.mouseover(tooltip, toolbar_mouse_event);\n",
       "        nav_element.append(button);\n",
       "    }\n",
       "\n",
       "    // Add the status bar.\n",
       "    var status_bar = $('<span class=\"mpl-message\" style=\"text-align:right; float: right;\"/>');\n",
       "    nav_element.append(status_bar);\n",
       "    this.message = status_bar[0];\n",
       "\n",
       "    // Add the close button to the window.\n",
       "    var buttongrp = $('<div class=\"btn-group inline pull-right\"></div>');\n",
       "    var button = $('<button class=\"btn btn-mini btn-primary\" href=\"#\" title=\"Stop Interaction\"><i class=\"fa fa-power-off icon-remove icon-large\"></i></button>');\n",
       "    button.click(function (evt) { fig.handle_close(fig, {}); } );\n",
       "    button.mouseover('Stop Interaction', toolbar_mouse_event);\n",
       "    buttongrp.append(button);\n",
       "    var titlebar = this.root.find($('.ui-dialog-titlebar'));\n",
       "    titlebar.prepend(buttongrp);\n",
       "}\n",
       "\n",
       "mpl.figure.prototype._root_extra_style = function(el){\n",
       "    var fig = this\n",
       "    el.on(\"remove\", function(){\n",
       "\tfig.close_ws(fig, {});\n",
       "    });\n",
       "}\n",
       "\n",
       "mpl.figure.prototype._canvas_extra_style = function(el){\n",
       "    // this is important to make the div 'focusable\n",
       "    el.attr('tabindex', 0)\n",
       "    // reach out to IPython and tell the keyboard manager to turn it's self\n",
       "    // off when our div gets focus\n",
       "\n",
       "    // location in version 3\n",
       "    if (IPython.notebook.keyboard_manager) {\n",
       "        IPython.notebook.keyboard_manager.register_events(el);\n",
       "    }\n",
       "    else {\n",
       "        // location in version 2\n",
       "        IPython.keyboard_manager.register_events(el);\n",
       "    }\n",
       "\n",
       "}\n",
       "\n",
       "mpl.figure.prototype._key_event_extra = function(event, name) {\n",
       "    var manager = IPython.notebook.keyboard_manager;\n",
       "    if (!manager)\n",
       "        manager = IPython.keyboard_manager;\n",
       "\n",
       "    // Check for shift+enter\n",
       "    if (event.shiftKey && event.which == 13) {\n",
       "        this.canvas_div.blur();\n",
       "        event.shiftKey = false;\n",
       "        // Send a \"J\" for go to next cell\n",
       "        event.which = 74;\n",
       "        event.keyCode = 74;\n",
       "        manager.command_mode();\n",
       "        manager.handle_keydown(event);\n",
       "    }\n",
       "}\n",
       "\n",
       "mpl.figure.prototype.handle_save = function(fig, msg) {\n",
       "    fig.ondownload(fig, null);\n",
       "}\n",
       "\n",
       "\n",
       "mpl.find_output_cell = function(html_output) {\n",
       "    // Return the cell and output element which can be found *uniquely* in the notebook.\n",
       "    // Note - this is a bit hacky, but it is done because the \"notebook_saving.Notebook\"\n",
       "    // IPython event is triggered only after the cells have been serialised, which for\n",
       "    // our purposes (turning an active figure into a static one), is too late.\n",
       "    var cells = IPython.notebook.get_cells();\n",
       "    var ncells = cells.length;\n",
       "    for (var i=0; i<ncells; i++) {\n",
       "        var cell = cells[i];\n",
       "        if (cell.cell_type === 'code'){\n",
       "            for (var j=0; j<cell.output_area.outputs.length; j++) {\n",
       "                var data = cell.output_area.outputs[j];\n",
       "                if (data.data) {\n",
       "                    // IPython >= 3 moved mimebundle to data attribute of output\n",
       "                    data = data.data;\n",
       "                }\n",
       "                if (data['text/html'] == html_output) {\n",
       "                    return [cell, data, j];\n",
       "                }\n",
       "            }\n",
       "        }\n",
       "    }\n",
       "}\n",
       "\n",
       "// Register the function which deals with the matplotlib target/channel.\n",
       "// The kernel may be null if the page has been refreshed.\n",
       "if (IPython.notebook.kernel != null) {\n",
       "    IPython.notebook.kernel.comm_manager.register_target('matplotlib', mpl.mpl_figure_comm);\n",
       "}\n"
      ],
      "text/plain": [
       "<IPython.core.display.Javascript object>"
      ]
     },
     "metadata": {},
     "output_type": "display_data"
    },
    {
     "data": {
      "text/html": [
       "<img src=\"data:image/png;base64,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\">"
      ],
      "text/plain": [
       "<IPython.core.display.HTML object>"
      ]
     },
     "metadata": {},
     "output_type": "display_data"
    }
   ],
   "source": [
    "%matplotlib notebook\n",
    "import matplotlib\n",
    "import matplotlib.pyplot as plt\n",
    "import numpy as np\n",
    "\n",
    "# A histogram\n",
    "n = np.random.randn(100000)\n",
    "fig, axes = plt.subplots(1, 2, figsize=(12,4))\n",
    "\n",
    "axes[0].hist(n)\n",
    "axes[0].set_title(\"Default histogram\")\n",
    "axes[0].set_xlim((min(n), max(n)))\n",
    "\n",
    "axes[1].hist(n, cumulative=True, bins=50)\n",
    "axes[1].set_title(\"Cumulative detailed histogram\")\n",
    "axes[1].set_xlim((min(n), max(n)));\n",
    "fig.show()"
   ]
  },
  {
   "cell_type": "markdown",
   "metadata": {},
   "source": [
    "# Pandas: Aufgaben zur Vorbereitung\n",
    "\n",
    "[10 Minutes to Pandas](http://pandas.pydata.org/pandas-docs/stable/10min.html)\n",
    "\n",
    "1. Was ist der Vorteil eines Pandas Dataframe gegenüber einem Numpy Array?\n",
    "2. Wie legt man eine Pandas Dataframe an?\n",
    "3. Wie liest man eine .csv Datei in einen Pandas Dataframe?\n",
    "4. Wie schreibt man einen Pandas Dataframe in eine .csv Datei?\n",
    "4. Wie greift man auf den Index eines Pandas Dataframes zu?\n",
    "4. Wie greift man auf die Spaltennamen eines Dataframes zu?\n",
    "5. Wie greift man auf eine Spalte eines Dataframes zu?\n",
    "6. Wie greift man auf eine Zeile eines Dataframes zu?"
   ]
  },
  {
   "cell_type": "markdown",
   "metadata": {
    "collapsed": true
   },
   "source": [
    "**Aufgabe 1**\n",
    "\n",
    "Panda frames liefern viel mehr analyse und index funktionalitäten mit sich\n",
    "\n"
   ]
  },
  {
   "cell_type": "code",
   "execution_count": 18,
   "metadata": {
    "collapsed": false
   },
   "outputs": [
    {
     "data": {
      "text/html": [
       "<div>\n",
       "<table border=\"1\" class=\"dataframe\">\n",
       "  <thead>\n",
       "    <tr style=\"text-align: right;\">\n",
       "      <th></th>\n",
       "      <th>one</th>\n",
       "      <th>two</th>\n",
       "    </tr>\n",
       "  </thead>\n",
       "  <tbody>\n",
       "    <tr>\n",
       "      <th>a</th>\n",
       "      <td>1.0</td>\n",
       "      <td>1.0</td>\n",
       "    </tr>\n",
       "    <tr>\n",
       "      <th>b</th>\n",
       "      <td>2.0</td>\n",
       "      <td>2.0</td>\n",
       "    </tr>\n",
       "    <tr>\n",
       "      <th>c</th>\n",
       "      <td>3.0</td>\n",
       "      <td>3.0</td>\n",
       "    </tr>\n",
       "    <tr>\n",
       "      <th>d</th>\n",
       "      <td>NaN</td>\n",
       "      <td>4.0</td>\n",
       "    </tr>\n",
       "  </tbody>\n",
       "</table>\n",
       "</div>"
      ],
      "text/plain": [
       "   one  two\n",
       "a  1.0  1.0\n",
       "b  2.0  2.0\n",
       "c  3.0  3.0\n",
       "d  NaN  4.0"
      ]
     },
     "execution_count": 18,
     "metadata": {},
     "output_type": "execute_result"
    }
   ],
   "source": [
    "# Aufgabe 2\n",
    "\n",
    "import numpy as np\n",
    "import pandas as pd\n",
    "\n",
    "s = pd.Series(np.random.rand(5), index=['a','b','c','d','e'])\n",
    "\n",
    "d =    {'one' : pd.Series([1., 2., 3.], index=['a', 'b', 'c']),\n",
    "        'two' : pd.Series([1., 2., 3., 4.], index=['a', 'b', 'c', 'd'])}\n",
    "df = pd.DataFrame(d)\n",
    "\n",
    "df\n"
   ]
  },
  {
   "cell_type": "markdown",
   "metadata": {},
   "source": [
    "** Aufgabe 3 + 4 **\n",
    "\n",
    "[pandas.read_csv(filepath, params...)](http://pandas.pydata.org/pandas-docs/stable/generated/pandas.read_csv.html#pandas.read_csv)\n",
    "\n",
    "[DataFrame.to_csv(filepath, params...)](http://pandas.pydata.org/pandas-docs/stable/generated/pandas.DataFrame.to_csv.html)\n"
   ]
  },
  {
   "cell_type": "code",
   "execution_count": null,
   "metadata": {
    "collapsed": true
   },
   "outputs": [],
   "source": [
    "# Aufgabe 5\n",
    "df['one']['b']"
   ]
  },
  {
   "cell_type": "code",
   "execution_count": 19,
   "metadata": {
    "collapsed": false
   },
   "outputs": [
    {
     "data": {
      "text/plain": [
       "Index([u'one', u'two'], dtype='object')"
      ]
     },
     "execution_count": 19,
     "metadata": {},
     "output_type": "execute_result"
    }
   ],
   "source": [
    "# Aufgabe 6\n",
    "df.columns\n",
    "df.index"
   ]
  },
  {
   "cell_type": "code",
   "execution_count": null,
   "metadata": {
    "collapsed": true
   },
   "outputs": [],
   "source": [
    "# Aufgabe 7\n",
    "df['one']"
   ]
  },
  {
   "cell_type": "code",
   "execution_count": 31,
   "metadata": {
    "collapsed": false
   },
   "outputs": [
    {
     "data": {
      "text/html": [
       "<div>\n",
       "<table border=\"1\" class=\"dataframe\">\n",
       "  <thead>\n",
       "    <tr style=\"text-align: right;\">\n",
       "      <th></th>\n",
       "      <th>one</th>\n",
       "      <th>two</th>\n",
       "    </tr>\n",
       "  </thead>\n",
       "  <tbody>\n",
       "    <tr>\n",
       "      <th>a</th>\n",
       "      <td>1.0</td>\n",
       "      <td>1.0</td>\n",
       "    </tr>\n",
       "  </tbody>\n",
       "</table>\n",
       "</div>"
      ],
      "text/plain": [
       "   one  two\n",
       "a  1.0  1.0"
      ]
     },
     "execution_count": 31,
     "metadata": {},
     "output_type": "execute_result"
    }
   ],
   "source": [
    "# Aufgabe 8\n",
    "df[:'a']"
   ]
  },
  {
   "cell_type": "code",
   "execution_count": null,
   "metadata": {
    "collapsed": true
   },
   "outputs": [],
   "source": []
  }
 ],
 "metadata": {
  "kernelspec": {
   "display_name": "Python 2",
   "language": "python",
   "name": "python2"
  },
  "language_info": {
   "codemirror_mode": {
    "name": "ipython",
    "version": 2
   },
   "file_extension": ".py",
   "mimetype": "text/x-python",
   "name": "python",
   "nbconvert_exporter": "python",
   "pygments_lexer": "ipython2",
   "version": "2.7.11"
  },
  "nav_menu": {},
  "toc": {
   "navigate_menu": true,
   "number_sections": true,
   "sideBar": true,
   "threshold": 6,
   "toc_cell": false,
   "toc_section_display": "block",
   "toc_window_display": false
  }
 },
 "nbformat": 4,
 "nbformat_minor": 0
}
