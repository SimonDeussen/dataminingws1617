{
 "cells": [
  {
   "cell_type": "markdown",
   "metadata": {},
   "source": [
    "# Python: Aufgaben zur Vorbereitung\n",
    "\n",
    "* Autor: Prof. Dr. Johannes Maucher\n",
    "* Datum: 13.10.2015\n",
    "* [Download des Jupyter Notebooks (.ipynb)](Aufgaben zur Einarbeitung in das Data Mining Praktikum.ipynb) Klick auf _Ziel speichern unter_. Im Verzeichnis, in dem das Notebook abgelegt wurde, Konsole öffnen und dort _jupyter notebook_ eingeben.\n",
    "\n",
    "[Übersicht Jupyter Notebooks im Data Mining Praktikum (.html)](Data Mining Praktikum.html)\n",
    "\n",
    "\n",
    "## Listen\n",
    "**Aufgaben:**\n",
    "1. Legen Sie zwei Listen gleicher Länge mit numerischen Datenelementen an.\n",
    "2. Hängen Sie an die erste Liste die Elemente der zweiten Liste an.\n",
    "3. Suchen Sie in der neuen Liste nach einem Element mit einem bestimmten Wert und bestimmen Sie an welcher Position das Element in der Liste auftritt. Wie kann der Fall, dass der vorgegebene Wert nicht in der Liste ist, abgefangen werden?\n",
    "4. Löschen Sie die Elemente von der zweiten bis zur vierten Stelle aus der Liste (Elemente an den Indizes 1,2 und 3)\n",
    "5. Fügen Sie die Elemente 4,2 und 1 an der Stelle 2 fortfolgend ein (so dass Liste erweitert wird)\n",
    "6. Sortieren Sie die Liste nach absteigenden Werten.\n",
    "7. Berechnen Sie die elementweise Summe zweier numerischer Listen gleicher Länge mithilfe einer _List-Comprehension_."
   ]
  },
  {
   "cell_type": "code",
   "execution_count": 40,
   "metadata": {
    "collapsed": false,
    "scrolled": true
   },
   "outputs": [
    {
     "name": "stdout",
     "output_type": "stream",
     "text": [
      "[1, 2, 3, 4, 5, 6, 7, 8]\n",
      "6\n",
      "[1, 5, 6, 7, 8]\n",
      "[1, 4, 2, 1, 5, 6, 7, 8]\n",
      "[8, 7, 6, 5, 4, 2, 1, 1]\n",
      "[0, 1, 2, 3, 4, 5, 6, 7, 8]\n",
      "34\n",
      "28\n"
     ]
    }
   ],
   "source": [
    "#1\n",
    "l1=[1,2,3,4]\n",
    "l2=[5,6,7,8]\n",
    "\n",
    "#2\n",
    "l1.extend(l2)\n",
    "print l1\n",
    "\n",
    "#3\n",
    "val=7\n",
    "if val not in l1:\n",
    "    print \"sorry bruh\"\n",
    "else:\n",
    "    print l1.index(val)\n",
    "\n",
    "#4\n",
    "del l1[1:4]\n",
    "print l1\n",
    "\n",
    "#5\n",
    "l3=[4,2,1]\n",
    "l1[1:1]=l3\n",
    "print l1\n",
    "\n",
    "#6\n",
    "l1.sort(reverse=True)\n",
    "print l1\n",
    "\n",
    "#7\n",
    "l4=range(9)\n",
    "print l4\n",
    "sum1=0;\n",
    "sum4=0;\n",
    "for index,a in enumerate(l1):\n",
    "    sum1+=a\n",
    "    sum4+=l4[index]\n",
    "print sum1\n",
    "print sum4"
   ]
  },
  {
   "cell_type": "markdown",
   "metadata": {},
   "source": [
    "## Strings\n",
    "**Aufgaben:**\n",
    "\n",
    "1. Weisen Sie einen Text mit mindestens 10 Wörtern einer Stringvariablen _text1_ zu.\n",
    "2. Transformieren Sie _text1_ so, dass alle Wörter klein geschrieben sind.\n",
    "3. Aus wievielen Zeichen besteht der Text?\n",
    "4. Aus wievielen unterschiedlichen Zeichen besteht der Text?\n",
    "1. Zerlegen Sie den in der String-Variablen abgespeicherten Text in eine Liste _list1_ von Wörtern.\n",
    "2. Aus wievielen Wörtern besteht der Text?\n",
    "3. Aus wievielen unterschiedlichen Wörtern besteht der Text?\n",
    "1. Legen Sie analog zu _text1_ noch zwei weitere Stringvariablen _text2_ und _text3_ an, die ungefähr so viele Wörter enthalten wie _text1_.\n",
    "2. Wiederholen Sie die oben genannten Schritte für _text2_ und _text3_. Die zugehörigen Wortlisten sollten mit _liste2_ und _liste3_ bezeichnet werden.\n",
    "3. Bestimmen Sie jetzt das gesamte Vokabular. Das gesamte Vokabular ist die Menge aller Worte, die mindestens in einem der 3 Texte vorkommen. Die Wörter des Vokabulars sollen in einer Liste _vocabular_ gespeichert werden. Aus wievielen Wörtern besteht das Vokabular?"
   ]
  },
  {
   "cell_type": "code",
   "execution_count": 7,
   "metadata": {
    "collapsed": false
   },
   "outputs": [
    {
     "name": "stdout",
     "output_type": "stream",
     "text": [
      "simon war ein kleiner idiot. er liebte es, klebstoff zu schnüffeln\n",
      "Mit whitespaces besteht text1 aus 67  Zeichen.\n",
      "simon war ein kleiner idiot. er liebte es, klebstoff zu schnüffeln\n",
      "Ohne nur aus  57\n",
      "24\n",
      "['simon', 'war', 'ein', 'kleiner', 'idiot.', 'er', 'liebte', 'es,', 'klebstoff', 'zu', 'schn\\xc3\\xbcffeln']\n",
      "11\n",
      "11\n",
      "8\n",
      "4\n",
      "set(['die', 'der', 'kartoffel', 'das'])\n"
     ]
    }
   ],
   "source": [
    "#1\n",
    "text1 = \"Simon war ein kleiner Idiot. Er liebte es, Klebstoff zu schnüffeln\"\n",
    "\n",
    "#2\n",
    "text1 = text1.lower()\n",
    "print text1\n",
    "\n",
    "#3\n",
    "print 'Mit whitespaces besteht text1 aus',len(text1),' Zeichen.'\n",
    "text1_1=text1[:]\n",
    "print text1_1\n",
    "text1_1=text1_1.replace(\" \",\"\")\n",
    "print 'Ohne nur aus ',len(text1_1)\n",
    "\n",
    "#4\n",
    "def unterschiedlicheZeichen(s):\n",
    "    Buchstabenmenge=set(s)\n",
    "    print len(Buchstabenmenge)\n",
    "unterschiedlicheZeichen(text1)\n",
    "\n",
    "#5\n",
    "list1 = text1.split()\n",
    "print list1\n",
    "\n",
    "#6\n",
    "print len(list1)\n",
    "\n",
    "#7\n",
    "m_list1 = set(list1)\n",
    "print len(m_list1)\n",
    "\n",
    "#8\n",
    "text2=\"Ich mag Tomaten und Bananen. Ich esse sie täglich\"\n",
    "text3=\"der die das der die das der die das kartoffel\"\n",
    "\n",
    "#9\n",
    "list2 = text2.split()\n",
    "m_list2 = set(list2)\n",
    "print len(m_list2)\n",
    "\n",
    "list3 = text3.split()\n",
    "m_list3 = set(list3)\n",
    "print len(m_list3)\n"
   ]
  },
  {
   "cell_type": "markdown",
   "metadata": {},
   "source": [
    "## Dictionaries\n",
    "**Aufgaben:**\n",
    "\n",
    "1. Legen Sie für jeden der 3 Texte je ein Dictionary an, das als Keys alle Wörter des gesamten Vokabulars enthält und als Values die Häufigkeit des Worts im jeweiligen Text.\n",
    "2. Legen Sie ein verschachteltes Dictionary an, dessen Keys Namen für die drei oben angelegten Texte sind und dessen Values die oben angelegten Dictionarys sind.\n",
    "3. Fragen Sie die Häufigkeit eines im Vokabular enthaltenen Worts in jedem der 3 Texte aus dem verschachtelten Dictionary ab."
   ]
  },
  {
   "cell_type": "code",
   "execution_count": 73,
   "metadata": {
    "collapsed": false
   },
   "outputs": [
    {
     "name": "stdout",
     "output_type": "stream",
     "text": [
      "{'klebstoff': 1, 'simon': 1, 'schn\\xc3\\xbcffeln': 1, 'es,': 1, 'liebte': 1, 'idiot.': 1, 'kleiner': 1, 'zu': 1, 'ein': 2, 'war': 1, 'er': 2}\n",
      "{'Ich': 2, 'sie': 1, 'Tomaten': 1, 't\\xc3\\xa4glich': 1, 'esse': 1, 'mag': 1, 'und': 1, 'Bananen.': 1}\n",
      "{'die': 3, 'der': 3, 'kartoffel': 1, 'das': 3}\n"
     ]
    },
    {
     "ename": "TypeError",
     "evalue": "unsupported operand type(s) for +=: 'dict' and 'dict'",
     "output_type": "error",
     "traceback": [
      "\u001b[1;31m---------------------------------------------------------------------------\u001b[0m",
      "\u001b[1;31mTypeError\u001b[0m                                 Traceback (most recent call last)",
      "\u001b[1;32m<ipython-input-73-a0f3675fe6e3>\u001b[0m in \u001b[0;36m<module>\u001b[1;34m()\u001b[0m\n\u001b[0;32m     26\u001b[0m         \u001b[0md\u001b[0m\u001b[1;33m+=\u001b[0m\u001b[0margs\u001b[0m\u001b[1;33m[\u001b[0m\u001b[0mindex\u001b[0m\u001b[1;33m]\u001b[0m\u001b[1;33m\u001b[0m\u001b[0m\n\u001b[0;32m     27\u001b[0m \u001b[1;33m\u001b[0m\u001b[0m\n\u001b[1;32m---> 28\u001b[1;33m \u001b[0mmommy\u001b[0m\u001b[1;33m=\u001b[0m \u001b[0mmotherDict\u001b[0m\u001b[1;33m(\u001b[0m\u001b[0mdic_text1\u001b[0m\u001b[1;33m,\u001b[0m \u001b[0mdic_text2\u001b[0m\u001b[1;33m,\u001b[0m \u001b[0mdic_text3\u001b[0m\u001b[1;33m)\u001b[0m\u001b[1;33m\u001b[0m\u001b[0m\n\u001b[0m\u001b[0;32m     29\u001b[0m \u001b[1;32mprint\u001b[0m \u001b[0mmommy\u001b[0m\u001b[1;33m\u001b[0m\u001b[0m\n",
      "\u001b[1;32m<ipython-input-73-a0f3675fe6e3>\u001b[0m in \u001b[0;36mmotherDict\u001b[1;34m(*args)\u001b[0m\n\u001b[0;32m     24\u001b[0m     \u001b[0md\u001b[0m\u001b[1;33m=\u001b[0m\u001b[1;33m{\u001b[0m\u001b[1;33m}\u001b[0m\u001b[1;33m\u001b[0m\u001b[0m\n\u001b[0;32m     25\u001b[0m     \u001b[1;32mfor\u001b[0m \u001b[0mindex\u001b[0m\u001b[1;33m,\u001b[0m \u001b[0mval\u001b[0m \u001b[1;32min\u001b[0m \u001b[0menumerate\u001b[0m\u001b[1;33m(\u001b[0m\u001b[0margs\u001b[0m\u001b[1;33m)\u001b[0m\u001b[1;33m:\u001b[0m\u001b[1;33m\u001b[0m\u001b[0m\n\u001b[1;32m---> 26\u001b[1;33m         \u001b[0md\u001b[0m\u001b[1;33m+=\u001b[0m\u001b[0margs\u001b[0m\u001b[1;33m[\u001b[0m\u001b[0mindex\u001b[0m\u001b[1;33m]\u001b[0m\u001b[1;33m\u001b[0m\u001b[0m\n\u001b[0m\u001b[0;32m     27\u001b[0m \u001b[1;33m\u001b[0m\u001b[0m\n\u001b[0;32m     28\u001b[0m \u001b[0mmommy\u001b[0m\u001b[1;33m=\u001b[0m \u001b[0mmotherDict\u001b[0m\u001b[1;33m(\u001b[0m\u001b[0mdic_text1\u001b[0m\u001b[1;33m,\u001b[0m \u001b[0mdic_text2\u001b[0m\u001b[1;33m,\u001b[0m \u001b[0mdic_text3\u001b[0m\u001b[1;33m)\u001b[0m\u001b[1;33m\u001b[0m\u001b[0m\n",
      "\u001b[1;31mTypeError\u001b[0m: unsupported operand type(s) for +=: 'dict' and 'dict'"
     ]
    }
   ],
   "source": [
    "import re\n",
    "\n",
    "#1\n",
    "dic_text1=senToDict(text1)\n",
    "dic_text2=senToDict(text2)\n",
    "dic_text3=senToDict(text3)\n",
    "\n",
    "def senToDict(sentence):\n",
    "    d={}\n",
    "    sentence.replace(\",\",\"\")\n",
    "    sentence.replace(\".\",\"\")\n",
    "    wordlist= sentence.split()\n",
    "    \n",
    "    for index, val in enumerate(wordlist):\n",
    "        d.setdefault(wordlist[index], sentence.count(wordlist[index]))\n",
    "    return d\n",
    "\n",
    "print dic_text1\n",
    "print dic_text2\n",
    "print dic_text3\n",
    "\n",
    "#2\n",
    "def motherDict(*args):\n",
    "    d={}\n",
    "    for index, val in enumerate(args):\n",
    "        \n",
    "\n",
    "mommy= motherDict(dic_text1, dic_text2, dic_text3)\n",
    "print mommy"
   ]
  },
  {
   "cell_type": "markdown",
   "metadata": {},
   "source": [
    "## Funktionen\n",
    "**Aufgaben:**\n",
    "1. Schreiben Sie eine Funktion, der eine Liste mit beliebig vielen Texten in Form von Stringvariablen übergeben wird. Aus dieser Liste soll ein verschachteltes Dictionary erzeugt und zurückgegeben werden, das als Keys Namen für die einzelnen Texte enthält und dessen Values Dictionaries sind, welche die Häufigkeit der Vokabularworte in den jeweiligen Texten enthalten (also das gleiche verschachtelte Dictionary, wie in der vorigen Aufgabe für 3 Texte angelegt wurde).\n",
    "2. Legen Sie eine Liste von Texten (Stringvariablen) an, übergeben Sie diese der oben implementierten Funktion und geben Sie das von der Funktion zurückgegebene verschachtelte Dictionary aus."
   ]
  },
  {
   "cell_type": "markdown",
   "metadata": {},
   "source": [
    "# Numpy: Aufgaben zur Vorbereitung\n",
    "\n",
    "[Numpy Intro IPython Notebook](http://nbviewer.ipython.org/github/jrjohansson/scientific-python-lectures/blob/master/Lecture-2-Numpy.ipynb)\n",
    "\n",
    "1. Wie wird ein eindimensionales, wie ein zweidimensionales Numpy Array angelegt?\n",
    "2. Wie bestimmt man die Größe (Anzahl Zeilen und Anzahl Spalten) eines zweidimensionalen Numpy Arrays?\n",
    "3. Wie werden die Mittelwerte der Spalten eines Numpy Arrays ermittelt, wie werden die Standardabweichungen der Spalten eines Numpy Arrays berechnet?\n",
    "4. Wie können die Daten aus einem .csv File direkt in ein Numpy-Array eingelesen werden?\n",
    "5. Wie kann ein Numpy Array effizient in einem File abgespeichert werden? Wie können diese Daten aus dem File wieder in ein Numpy Array gelesen werden?\n",
    "6. Wie kann auf das Element in Zeile 1, Spalte 2 eines Numpy Arrays zugegriffen werden?\n",
    "7. Wie kann auf die zweite Zeile eines Numpy-Arrays zugegriffen werden?\n",
    "8. Wie kann auf die Spalten 2 bis 4 eines Numpy-Arrays zugegriffen werden?\n",
    "8. Wie kann das Skalarprodukt zweier eindimensionaler Numpy-Arrays bestimmt werden? \n",
    "9. Wie kann ein zweidimensionales Numpy-Array mit einem anderen zweidimensionales Numpy-Array multipliziert werden (im Sinne einer Matrixmultiplikation)? \n",
    "10. Wie kann ein eindimensionales Numpy Array mit einem zweidimensionalen Numpy Array multipliziert werden?\n",
    "11. Wie können Zeilen oder Spalten eines Numpy Arrays hinsichtlich ihrer Werte ansteigend oder absteigend sortiert werden?"
   ]
  },
  {
   "cell_type": "markdown",
   "metadata": {},
   "source": [
    "# Scipy: Aufgaben zur Vorbereitung\n",
    "\n",
    "[SciPy Intro IPython Notebook](http://nbviewer.ipython.org/github/jrjohansson/scientific-python-lectures/blob/master/Lecture-3-Scipy.ipynb)\n",
    "\n",
    "Machen Sie sich mit den Funktionen des Moduls [Scipy.spatial.distance](http://docs.scipy.org/doc/scipy-0.14.0/reference/spatial.distance.html#module-scipy.spatial.distance) vertraut.\n",
    "\n",
    "1. Wie wird die paarweise euklidische Distanz zwischen den Zeilen eines Numpy Array berechnet?\n",
    "\n",
    "Machen Sie sich mit den Funktionen des Moduls [Scipy.cluster.hierarchy](http://docs.scipy.org/doc/scipy/reference/cluster.hierarchy.html) vertraut.\n",
    "\n",
    "1. Wie wird mit diesem Modul ein hierarchisches Clustering von Vektoren berechnet und visualisiert?\n",
    "2. Welche Bedeutung haben die Parameter _method_ und _metric_ der Funktion _linkage_?  \n",
    "\n",
    "# Matplotlib: Aufgaben zur Vorbereitung\n",
    "\n",
    "[Matplotlib Intro IPython Notebook](http://nbviewer.ipython.org/github/jrjohansson/scientific-python-lectures/blob/master/Lecture-4-Matplotlib.ipynb)\n",
    "\n",
    "1. Machen Sie sich anhand des oben verlinkten Matplotlib mit den grundlegenden Plotting Funktionen dieses Pakets vertraut.\n",
    "\n",
    "\n",
    "\n",
    "# Pandas: Aufgaben zur Vorbereitung\n",
    "\n",
    "[10 Minutes to Pandas](http://pandas.pydata.org/pandas-docs/stable/10min.html)\n",
    "\n",
    "1. Was ist der Vorteil eines Pandas Dataframe gegenüber einem Numpy Array?\n",
    "2. Wie legt man eine Pandas Dataframe an?\n",
    "3. Wie liest man eine .csv Datei in einen Pandas Dataframe?\n",
    "4. Wie schreibt man einen Pandas Dataframe in eine .csv Datei?\n",
    "4. Wie greift man auf den Index eines Pandas Dataframes zu?\n",
    "4. Wie greift man auf die Spaltennamen eines Dataframes zu?\n",
    "5. Wie greift man auf eine Spalte eines Dataframes zu?\n",
    "6. Wie greift man auf eine Zeile eines Dataframes zu?"
   ]
  },
  {
   "cell_type": "code",
   "execution_count": null,
   "metadata": {
    "collapsed": true
   },
   "outputs": [],
   "source": []
  }
 ],
 "metadata": {
  "kernelspec": {
   "display_name": "Python 2",
   "language": "python",
   "name": "python2"
  },
  "language_info": {
   "codemirror_mode": {
    "name": "ipython",
    "version": 2
   },
   "file_extension": ".py",
   "mimetype": "text/x-python",
   "name": "python",
   "nbconvert_exporter": "python",
   "pygments_lexer": "ipython2",
   "version": "2.7.11"
  },
  "nav_menu": {},
  "toc": {
   "navigate_menu": true,
   "number_sections": true,
   "sideBar": true,
   "threshold": 6,
   "toc_cell": false,
   "toc_section_display": "block",
   "toc_window_display": false
  }
 },
 "nbformat": 4,
 "nbformat_minor": 0
}
