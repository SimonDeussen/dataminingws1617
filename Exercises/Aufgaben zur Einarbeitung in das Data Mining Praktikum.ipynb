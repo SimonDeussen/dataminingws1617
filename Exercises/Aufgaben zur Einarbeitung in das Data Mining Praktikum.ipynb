{
 "cells": [
  {
   "cell_type": "markdown",
   "metadata": {},
   "source": [
    "# Python: Aufgaben zur Vorbereitung\n",
    "\n",
    "* Autor: Prof. Dr. Johannes Maucher\n",
    "* Datum: 13.10.2015\n",
    "* [Download des Jupyter Notebooks (.ipynb)](Aufgaben zur Einarbeitung in das Data Mining Praktikum.ipynb) Klick auf _Ziel speichern unter_. Im Verzeichnis, in dem das Notebook abgelegt wurde, Konsole öffnen und dort _jupyter notebook_ eingeben.\n",
    "\n",
    "[Übersicht Jupyter Notebooks im Data Mining Praktikum (.html)](Data Mining Praktikum.html)\n",
    "\n",
    "\n",
    "## Listen\n",
    "**Aufgaben:**\n",
    "1. Legen Sie zwei Listen gleicher Länge mit numerischen Datenelementen an."
   ]
  },
  {
   "cell_type": "code",
   "execution_count": 130,
   "metadata": {
    "collapsed": false
   },
   "outputs": [
    {
     "name": "stdout",
     "output_type": "stream",
     "text": [
      "6 6\n"
     ]
    }
   ],
   "source": [
    "list1 = range(3,9,)\n",
    "list2 = range(1,7)\n",
    "print str(len(list1)) + \" \" + str(len(list2))"
   ]
  },
  {
   "cell_type": "markdown",
   "metadata": {},
   "source": [
    "2. Hängen Sie an die erste Liste die Elemente der zweiten Liste an."
   ]
  },
  {
   "cell_type": "code",
   "execution_count": 131,
   "metadata": {
    "collapsed": false
   },
   "outputs": [
    {
     "name": "stdout",
     "output_type": "stream",
     "text": [
      "[3, 4, 5, 6, 7, 8, 1, 2, 3, 4, 5, 6]\n"
     ]
    }
   ],
   "source": [
    "list3 = list1+list2\n",
    "print list3"
   ]
  },
  {
   "cell_type": "markdown",
   "metadata": {},
   "source": [
    "3. Suchen Sie in der neuen Liste nach einem Element mit einem bestimmten Wert und bestimmen Sie an welcher Position das Element in der Liste auftritt. Wie kann der Fall, dass der vorgegebene Wert nicht in der Liste ist, abgefangen werden?"
   ]
  },
  {
   "cell_type": "code",
   "execution_count": 189,
   "metadata": {
    "collapsed": false
   },
   "outputs": [
    {
     "name": "stdout",
     "output_type": "stream",
     "text": [
      "3\n"
     ]
    }
   ],
   "source": [
    "def printSafeIndex(obj,list):\n",
    "    if obj in list:\n",
    "        print list.index(obj)\n",
    "    else:\n",
    "        print \"not found\"\n",
    "    return\n",
    "\n",
    "printSafeIndex(6,list3)"
   ]
  },
  {
   "cell_type": "markdown",
   "metadata": {},
   "source": [
    "4. Löschen Sie die Elemente von der zweiten bis zur vierten Stelle aus der Liste (Elemente an den Indizes 1,2 und 3)"
   ]
  },
  {
   "cell_type": "code",
   "execution_count": 190,
   "metadata": {
    "collapsed": false
   },
   "outputs": [
    {
     "name": "stdout",
     "output_type": "stream",
     "text": [
      "[3, 7, 8, 1, 2, 3, 4, 5, 6]\n"
     ]
    }
   ],
   "source": [
    "del list3[1:4]\n",
    "print list3"
   ]
  },
  {
   "cell_type": "markdown",
   "metadata": {},
   "source": [
    "4. Fügen Sie die Elemente 4,2 und 1 an der Stelle 2 fortfolgend ein (so dass Liste erweitert wird)"
   ]
  },
  {
   "cell_type": "code",
   "execution_count": 192,
   "metadata": {
    "collapsed": false
   },
   "outputs": [
    {
     "name": "stdout",
     "output_type": "stream",
     "text": [
      "[3, 7, 2, 2, 2, 2, 8, 1, 2, 3, 4, 5, 6]\n"
     ]
    }
   ],
   "source": [
    "x=[4,2]\n",
    "for i in range(0,len(x)):\n",
    "    x.reverse()\n",
    "    list3.insert(2,x[i])\n",
    "    \n",
    "print list3\n"
   ]
  },
  {
   "cell_type": "markdown",
   "metadata": {},
   "source": [
    "5. Sortieren Sie die Liste nach absteigenden Werten."
   ]
  },
  {
   "cell_type": "code",
   "execution_count": 193,
   "metadata": {
    "collapsed": false
   },
   "outputs": [],
   "source": [
    "list3.sort(reverse=True)"
   ]
  },
  {
   "cell_type": "markdown",
   "metadata": {},
   "source": [
    "6. Berechnen Sie die elementweise Summe zweier numerischer Listen gleicher Länge mithilfe einer _List-Comprehension_."
   ]
  },
  {
   "cell_type": "code",
   "execution_count": 194,
   "metadata": {
    "collapsed": false
   },
   "outputs": [
    {
     "name": "stdout",
     "output_type": "stream",
     "text": [
      "[16, 14, 12, 10, 8, 6, 6, 4, 4, 4, 4, 4, 2]\n"
     ]
    }
   ],
   "source": [
    "list4 = list3[:]\n",
    "list5 = list3[:]\n",
    "\n",
    "for index,num in enumerate(list3):\n",
    "    list5[index]  = num+list4[index]\n",
    "print list5"
   ]
  },
  {
   "cell_type": "markdown",
   "metadata": {},
   "source": [
    "## Strings\n",
    "**Aufgaben:**\n",
    "\n",
    "1. Weisen Sie einen Text mit mindestens 10 Wörtern einer Stringvariablen _text1_ zu."
   ]
  },
  {
   "cell_type": "markdown",
   "metadata": {},
   "source": [
    "text1 = \"Lorem ipsum dolor sit amet, consectetuer adipiscing elit. \""
   ]
  },
  {
   "cell_type": "markdown",
   "metadata": {},
   "source": [
    "2. Transformieren Sie _text1_ so, dass alle Wörter klein geschrieben sind."
   ]
  },
  {
   "cell_type": "code",
   "execution_count": 5,
   "metadata": {
    "collapsed": false
   },
   "outputs": [
    {
     "data": {
      "text/plain": [
       "'lorem ipsum dolor sit amet, consectetuer adipiscing elit'"
      ]
     },
     "execution_count": 5,
     "metadata": {},
     "output_type": "execute_result"
    }
   ],
   "source": [
    "text1 = \"Lorem ipsum dolor sit amet, consectetuer adipiscing elit\"\n",
    "text1.lower()"
   ]
  },
  {
   "cell_type": "markdown",
   "metadata": {},
   "source": [
    "3. Aus wievielen Zeichen besteht der Text?"
   ]
  },
  {
   "cell_type": "code",
   "execution_count": 6,
   "metadata": {
    "collapsed": false
   },
   "outputs": [
    {
     "name": "stdout",
     "output_type": "stream",
     "text": [
      "56\n"
     ]
    }
   ],
   "source": [
    "print len(text1)"
   ]
  },
  {
   "cell_type": "markdown",
   "metadata": {},
   "source": [
    "4. Aus wievielen unterschiedlichen Zeichen besteht der Text?"
   ]
  },
  {
   "cell_type": "code",
   "execution_count": 7,
   "metadata": {
    "collapsed": false
   },
   "outputs": [
    {
     "name": "stdout",
     "output_type": "stream",
     "text": [
      "set(['a', ' ', 'c', 'e', 'd', 'g', 'i', 'm', 'L', 'o', 'l', 'p', 's', 'r', 'u', 't', 'n', ',']) 18\n"
     ]
    }
   ],
   "source": [
    "s = set(text1)\n",
    "print s, len(s)"
   ]
  },
  {
   "cell_type": "markdown",
   "metadata": {},
   "source": [
    "1. Zerlegen Sie den in der String-Variablen abgespeicherten Text in eine Liste _list1_ von Wörtern."
   ]
  },
  {
   "cell_type": "code",
   "execution_count": 8,
   "metadata": {
    "collapsed": false
   },
   "outputs": [
    {
     "name": "stdout",
     "output_type": "stream",
     "text": [
      "['Lorem', 'ipsum', 'dolor', 'sit', 'amet,', 'consectetuer', 'adipiscing', 'elit']\n"
     ]
    }
   ],
   "source": [
    "l1 = text1.split()\n",
    "print l1"
   ]
  },
  {
   "cell_type": "markdown",
   "metadata": {},
   "source": [
    "2. Aus wievielen Wörtern besteht der Text?"
   ]
  },
  {
   "cell_type": "code",
   "execution_count": 9,
   "metadata": {
    "collapsed": false
   },
   "outputs": [
    {
     "name": "stdout",
     "output_type": "stream",
     "text": [
      "8\n"
     ]
    }
   ],
   "source": [
    "print len(l1)"
   ]
  },
  {
   "cell_type": "markdown",
   "metadata": {},
   "source": [
    "3. Aus wievielen unterschiedlichen Wörtern besteht der Text?"
   ]
  },
  {
   "cell_type": "code",
   "execution_count": 10,
   "metadata": {
    "collapsed": false
   },
   "outputs": [
    {
     "name": "stdout",
     "output_type": "stream",
     "text": [
      "set(['ipsum', 'amet,', 'sit', 'elit', 'adipiscing', 'dolor', 'consectetuer', 'Lorem']) 8\n"
     ]
    }
   ],
   "source": [
    "s2 = set()\n",
    "for i,n in enumerate(l1):\n",
    "    s2.add(n)\n",
    "print s2, len(s2)"
   ]
  },
  {
   "cell_type": "markdown",
   "metadata": {},
   "source": [
    "1. Legen Sie analog zu _text1_ noch zwei weitere Stringvariablen _text2_ und _text3_ an, die ungefähr so viele Wörter enthalten wie _text1_."
   ]
  },
  {
   "cell_type": "code",
   "execution_count": 97,
   "metadata": {
    "collapsed": true
   },
   "outputs": [],
   "source": [
    "text1 = \"Lorem ipsum dolor dolor dolor sit amet, consectetuer adipiscing elit.\"\n",
    "text2 = \"Aenean commodo ligula eget dolor Aenean massa.\"\n",
    "text3 = \"Cum sociis natoque penatibus et magnis dis parturient montes\""
   ]
  },
  {
   "cell_type": "markdown",
   "metadata": {},
   "source": [
    "2. Wiederholen Sie die oben genannten Schritte für _text2_ und _text3_. Die zugehörigen Wortlisten sollten mit _liste2_ und _liste3_ bezeichnet werden."
   ]
  },
  {
   "cell_type": "code",
   "execution_count": 86,
   "metadata": {
    "collapsed": false
   },
   "outputs": [],
   "source": [
    "import re\n",
    "def getWortSet(text):\n",
    "    text = text.lower()\n",
    "    text = delPunkte(text)\n",
    "    text.strip(\".\")\n",
    "    l = re.split('[ |\\. |\\, ]+', text, flags=re.IGNORECASE)\n",
    "    s = set()\n",
    "    for i,n in enumerate(l):\n",
    "        s.add(n)\n",
    "    return s\n",
    "\n"
   ]
  },
  {
   "cell_type": "code",
   "execution_count": 87,
   "metadata": {
    "collapsed": false
   },
   "outputs": [
    {
     "name": "stdout",
     "output_type": "stream",
     "text": [
      "set(['elit', 'et', 'ligula', 'natoque', 'sit', 'lorem', 'massa', 'cum', 'montes', 'commodo', 'eget', 'parturient', 'amet', 'aenean', 'ipsum', 'sociis', 'penatibus', 'adipiscing', 'dolor', 'consectetuer', 'magnis', 'dis'])\n"
     ]
    }
   ],
   "source": [
    "print getWortSet(text1+text2+text3)"
   ]
  },
  {
   "cell_type": "markdown",
   "metadata": {},
   "source": [
    "3. Bestimmen Sie jetzt das gesamte Vokabular. Das gesamte Vokabular ist die Menge aller Worte, die mindestens in einem der 3 Texte vorkommen. Die Wörter des Vokabulars sollen in einer Liste _vocabular_ gespeichert werden. Aus wievielen Wörtern besteht das Vokabular?"
   ]
  },
  {
   "cell_type": "code",
   "execution_count": 49,
   "metadata": {
    "collapsed": false
   },
   "outputs": [
    {
     "name": "stdout",
     "output_type": "stream",
     "text": [
      "22\n"
     ]
    }
   ],
   "source": [
    "print len(getWortSet(text1+text2+text3))"
   ]
  },
  {
   "cell_type": "markdown",
   "metadata": {},
   "source": [
    "## Dictionaries\n",
    "**Aufgaben:**\n",
    "\n",
    "1. Legen Sie für jeden der 3 Texte je ein Dictionary an, das als Keys alle Wörter des gesamten Vokabulars enthält und als Values die Häufigkeit des Worts im jeweiligen Text."
   ]
  },
  {
   "cell_type": "code",
   "execution_count": 109,
   "metadata": {
    "collapsed": false
   },
   "outputs": [
    {
     "name": "stdout",
     "output_type": "stream",
     "text": [
      "{'ipsum': 1, 'amet,': 1, 'sit': 1, 'elit.': 1, 'adipiscing': 1, 'dolor': 3, 'consectetuer': 1, 'lorem': 1}\n",
      "{'commodo': 1, 'eget': 1, 'aenean': 2, 'dolor': 1, 'massa.': 1, 'ligula': 1}\n",
      "{'natoque': 1, 'montes': 1, 'sociis': 1, 'penatibus': 1, 'et': 1, 'cum': 1, 'magnis': 1, 'parturient': 1, 'dis': 1}\n"
     ]
    }
   ],
   "source": [
    "def getWortDict(text):\n",
    "    text = text.lower()\n",
    "    woerter = text.split()\n",
    "    dict = {}\n",
    "\n",
    "    for i in range(0,len(woerter)):\n",
    "        if dict.setdefault(woerter[i],0) >= 0:\n",
    "            dict[woerter[i]] += 1\n",
    "                \n",
    "    return dict\n",
    "                \n",
    "texte=[text1,text2,text3]     \n",
    "for i,text in enumerate(texte):\n",
    "    print getWortDict(text)"
   ]
  },
  {
   "cell_type": "markdown",
   "metadata": {},
   "source": [
    "2. Legen Sie ein verschachteltes Dictionary an, dessen Keys Namen für die drei oben angelegten Texte sind und dessen Values die oben angelegten Dictionarys sind."
   ]
  },
  {
   "cell_type": "code",
   "execution_count": 104,
   "metadata": {
    "collapsed": false
   },
   "outputs": [],
   "source": [
    "alleTexte= {\"text1\": getWortDict(text1), \"text2\": getWortDict(text2), \"text3\": getWortDict(text3)}"
   ]
  },
  {
   "cell_type": "markdown",
   "metadata": {},
   "source": [
    "3. Fragen Sie die Häufigkeit eines im Vokabular enthaltenen Worts in jedem der 3 Texte aus dem verschachtelten Dictionary ab."
   ]
  },
  {
   "cell_type": "code",
   "execution_count": 108,
   "metadata": {
    "collapsed": false
   },
   "outputs": [
    {
     "name": "stdout",
     "output_type": "stream",
     "text": [
      "3\n",
      "1\n",
      "1\n"
     ]
    }
   ],
   "source": [
    "print alleTexte[\"text1\"][\"dolor\"]\n",
    "print alleTexte[\"text2\"][\"dolor\"]\n",
    "print alleTexte[\"text3\"][\"montes\"]"
   ]
  },
  {
   "cell_type": "markdown",
   "metadata": {},
   "source": [
    "## Funktionen\n",
    "**Aufgaben:**\n",
    "1. Schreiben Sie eine Funktion, der eine Liste mit beliebig vielen Texten in Form von Stringvariablen übergeben wird. Aus dieser Liste soll ein verschachteltes Dictionary erzeugt und zurückgegeben werden, das als Keys Namen für die einzelnen Texte enthält und dessen Values Dictionaries sind, welche die Häufigkeit der Vokabularworte in den jeweiligen Texten enthalten (also das gleiche verschachtelte Dictionary, wie in der vorigen Aufgabe für 3 Texte angelegt wurde)."
   ]
  },
  {
   "cell_type": "code",
   "execution_count": 125,
   "metadata": {
    "collapsed": false
   },
   "outputs": [],
   "source": [
    "def getBigDict(*args):\n",
    "    d = {}\n",
    "    for i,arg in enumerate(args):\n",
    "        d.setdefault(\"text\"+str(i),getWortDict(arg))\n",
    "    return d"
   ]
  },
  {
   "cell_type": "markdown",
   "metadata": {},
   "source": [
    "2. Legen Sie eine Liste von Texten (Stringvariablen) an, übergeben Sie diese der oben implementierten Funktion und geben Sie das von der Funktion zurückgegebene verschachtelte Dictionary aus."
   ]
  },
  {
   "cell_type": "code",
   "execution_count": 126,
   "metadata": {
    "collapsed": false
   },
   "outputs": [
    {
     "name": "stdout",
     "output_type": "stream",
     "text": [
      "{'text2': {'natoque': 1, 'montes': 1, 'sociis': 1, 'penatibus': 1, 'et': 1, 'cum': 1, 'magnis': 1, 'parturient': 1, 'dis': 1}, 'text0': {'ipsum': 1, 'amet,': 1, 'sit': 1, 'elit.': 1, 'adipiscing': 1, 'dolor': 3, 'consectetuer': 1, 'lorem': 1}, 'text1': {'commodo': 1, 'eget': 1, 'aenean': 2, 'dolor': 1, 'massa.': 1, 'ligula': 1}}\n"
     ]
    }
   ],
   "source": [
    "print getBigDict(text1,text2,text3)"
   ]
  },
  {
   "cell_type": "markdown",
   "metadata": {},
   "source": [
    "# Numpy: Aufgaben zur Vorbereitung\n",
    "\n",
    "[Numpy Intro IPython Notebook](http://nbviewer.ipython.org/github/jrjohansson/scientific-python-lectures/blob/master/Lecture-2-Numpy.ipynb)\n",
    "\n",
    "1. Wie wird ein eindimensionales, wie ein zweidimensionales Numpy Array angelegt?\n",
    "2. Wie bestimmt man die Größe (Anzahl Zeilen und Anzahl Spalten) eines zweidimensionalen Numpy Arrays?"
   ]
  },
  {
   "cell_type": "code",
   "execution_count": 148,
   "metadata": {
    "collapsed": false
   },
   "outputs": [
    {
     "name": "stdout",
     "output_type": "stream",
     "text": [
      "[1 2 3 4]\n",
      "[[1 2 3]\n",
      " [3 4 5]\n",
      " [1 2 3]\n",
      " [3 4 5]]\n",
      "(4L,)\n",
      "(4L, 3L)\n"
     ]
    }
   ],
   "source": [
    "%matplotlib inline\n",
    "import matplotlib.pyplot as plt\n",
    "\n",
    "from numpy import *\n",
    "\n",
    "v = array([1,2,3,4])\n",
    "\n",
    "print v\n",
    "\n",
    "m = array([[1,2,3],[3,4,5],[1,2,3],[3,4,5]])\n",
    "\n",
    "print m\n",
    "\n",
    "print v.shape\n",
    "print m.shape\n",
    "\n"
   ]
  },
  {
   "cell_type": "markdown",
   "metadata": {},
   "source": [
    "3. Wie werden die Mittelwerte der Spalten eines Numpy Arrays ermittelt, wie werden die Standardabweichungen der Spalten eines Numpy Arrays berechnet?"
   ]
  },
  {
   "cell_type": "code",
   "execution_count": 189,
   "metadata": {
    "collapsed": false
   },
   "outputs": [
    {
     "name": "stdout",
     "output_type": "stream",
     "text": [
      "5.0\n",
      "0.816496580928\n"
     ]
    }
   ],
   "source": [
    "print mean(a[:,2])\n",
    "print std(a[1,:])"
   ]
  },
  {
   "cell_type": "markdown",
   "metadata": {},
   "source": [
    "4. Wie können die Daten aus einem .csv File direkt in ein Numpy-Array eingelesen werden?"
   ]
  },
  {
   "cell_type": "code",
   "execution_count": 140,
   "metadata": {
    "collapsed": false
   },
   "outputs": [],
   "source": [
    "# data = genfromtxt('BEISPIEL NAME')"
   ]
  },
  {
   "cell_type": "markdown",
   "metadata": {},
   "source": [
    "5. Wie kann ein Numpy Array effizient in einem File abgespeichert werden? Wie können diese Daten aus dem File wieder in ein Numpy Array gelesen werden?"
   ]
  },
  {
   "cell_type": "code",
   "execution_count": null,
   "metadata": {
    "collapsed": true
   },
   "outputs": [],
   "source": [
    "# SAVE save(\"BEISPIEL.npy\", M)\n",
    "# LOAD load(\"BEISPIEL.npy\")"
   ]
  },
  {
   "cell_type": "markdown",
   "metadata": {},
   "source": [
    "6. Wie kann auf das Element in Zeile 1, Spalte 2 eines Numpy Arrays zugegriffen werden?"
   ]
  },
  {
   "cell_type": "code",
   "execution_count": null,
   "metadata": {
    "collapsed": true
   },
   "outputs": [],
   "source": [
    "print m[0,1]"
   ]
  },
  {
   "cell_type": "markdown",
   "metadata": {},
   "source": [
    "7. Wie kann auf die zweite Zeile eines Numpy-Arrays zugegriffen werden?"
   ]
  },
  {
   "cell_type": "code",
   "execution_count": 144,
   "metadata": {
    "collapsed": false
   },
   "outputs": [
    {
     "name": "stdout",
     "output_type": "stream",
     "text": [
      "[2 4]\n"
     ]
    }
   ],
   "source": [
    "print m[:,1]"
   ]
  },
  {
   "cell_type": "markdown",
   "metadata": {},
   "source": [
    "8. Wie kann auf die Spalten 2 bis 4 eines Numpy-Arrays zugegriffen werden?"
   ]
  },
  {
   "cell_type": "code",
   "execution_count": 149,
   "metadata": {
    "collapsed": false
   },
   "outputs": [
    {
     "name": "stdout",
     "output_type": "stream",
     "text": [
      "[[3]\n",
      " [5]\n",
      " [3]\n",
      " [5]]\n"
     ]
    }
   ],
   "source": [
    "print m[:,2:4]"
   ]
  },
  {
   "cell_type": "markdown",
   "metadata": {},
   "source": [
    "8. Wie kann das Skalarprodukt zweier eindimensionaler Numpy-Arrays bestimmt werden? "
   ]
  },
  {
   "cell_type": "code",
   "execution_count": 154,
   "metadata": {
    "collapsed": false
   },
   "outputs": [
    {
     "data": {
      "text/plain": [
       "217"
      ]
     },
     "execution_count": 154,
     "metadata": {},
     "output_type": "execute_result"
    }
   ],
   "source": [
    "a = array([1,2,3,4,5,6])\n",
    "b = array([7,8,9,10,11,12])\n",
    "\n",
    "dot(a,b)"
   ]
  },
  {
   "cell_type": "markdown",
   "metadata": {},
   "source": [
    "9. Wie kann ein zweidimensionales Numpy-Array mit einem anderen zweidimensionales Numpy-Array multipliziert werden (im Sinne einer Matrixmultiplikation)? "
   ]
  },
  {
   "cell_type": "code",
   "execution_count": 164,
   "metadata": {
    "collapsed": false
   },
   "outputs": [
    {
     "name": "stdout",
     "output_type": "stream",
     "text": [
      "[[ 20  23]\n",
      " [140 163]]\n"
     ]
    }
   ],
   "source": [
    "a = array([[1,2],[11,12]])\n",
    "b = array([[4,5],[8,9]])\n",
    "\n",
    "print dot(a,b)"
   ]
  },
  {
   "cell_type": "markdown",
   "metadata": {},
   "source": [
    "10. Wie kann ein eindimensionales Numpy Array mit einem zweidimensionalen Numpy Array multipliziert werden?"
   ]
  },
  {
   "cell_type": "code",
   "execution_count": 165,
   "metadata": {
    "collapsed": false
   },
   "outputs": [
    {
     "name": "stdout",
     "output_type": "stream",
     "text": [
      "[20 23]\n"
     ]
    }
   ],
   "source": [
    "a = array([1,2])\n",
    "b = array([[4,5],[8,9]])\n",
    "\n",
    "print dot(a,b)"
   ]
  },
  {
   "cell_type": "markdown",
   "metadata": {},
   "source": [
    "11. Wie können Zeilen oder Spalten eines Numpy Arrays hinsichtlich ihrer Werte ansteigend oder absteigend sortiert werden?"
   ]
  },
  {
   "cell_type": "code",
   "execution_count": 178,
   "metadata": {
    "collapsed": false
   },
   "outputs": [
    {
     "name": "stdout",
     "output_type": "stream",
     "text": [
      "[[1 4]\n",
      " [1 3]]\n",
      "[[1 3]\n",
      " [1 4]]\n"
     ]
    }
   ],
   "source": [
    "a = array([[1,4], [3,1]])\n",
    "a.sort(axis=1)\n",
    "print a\n",
    "\n",
    "a.sort(axis=0)\n",
    "print a"
   ]
  },
  {
   "cell_type": "markdown",
   "metadata": {},
   "source": [
    "# Scipy: Aufgaben zur Vorbereitung\n",
    "\n",
    "[SciPy Intro IPython Notebook](http://nbviewer.ipython.org/github/jrjohansson/scientific-python-lectures/blob/master/Lecture-3-Scipy.ipynb)\n",
    "\n",
    "Machen Sie sich mit den Funktionen des Moduls [Scipy.spatial.distance](http://docs.scipy.org/doc/scipy-0.14.0/reference/spatial.distance.html#module-scipy.spatial.distance) vertraut.\n",
    "\n",
    "1. Wie wird die paarweise euklidische Distanz zwischen den Zeilen eines Numpy Array berechnet?"
   ]
  },
  {
   "cell_type": "code",
   "execution_count": 191,
   "metadata": {
    "collapsed": false
   },
   "outputs": [
    {
     "name": "stdout",
     "output_type": "stream",
     "text": [
      "7.0\n"
     ]
    }
   ],
   "source": [
    "# what is this line all about? Answer in lecture 4\n",
    "%matplotlib inline\n",
    "import matplotlib.pyplot as plt\n",
    "from scipy import *\n",
    "from scipy.spatial import distance\n",
    "\n",
    "a = array([[1,2],[9,8]])\n",
    "\n",
    "print distance.euclidean(a[:,0], a[0,:])\n"
   ]
  },
  {
   "cell_type": "markdown",
   "metadata": {},
   "source": [
    "Machen Sie sich mit den Funktionen des Moduls [Scipy.cluster.hierarchy](http://docs.scipy.org/doc/scipy/reference/cluster.hierarchy.html) vertraut.\n",
    "\n",
    "1. Wie wird mit diesem Modul ein hierarchisches Clustering von Vektoren berechnet und visualisiert?\n",
    "2. Welche Bedeutung haben die Parameter _method_ und _metric_ der Funktion _linkage_?  "
   ]
  },
  {
   "cell_type": "code",
   "execution_count": null,
   "metadata": {
    "collapsed": true
   },
   "outputs": [],
   "source": []
  },
  {
   "cell_type": "markdown",
   "metadata": {},
   "source": [
    "# Matplotlib: Aufgaben zur Vorbereitung\n",
    "\n",
    "[Matplotlib Intro IPython Notebook](http://nbviewer.ipython.org/github/jrjohansson/scientific-python-lectures/blob/master/Lecture-4-Matplotlib.ipynb)\n",
    "\n",
    "1. Machen Sie sich anhand des oben verlinkten Matplotlib mit den grundlegenden Plotting Funktionen dieses Pakets vertraut.\n",
    "\n",
    "\n",
    "\n",
    "# Pandas: Aufgaben zur Vorbereitung\n",
    "\n",
    "[10 Minutes to Pandas](http://pandas.pydata.org/pandas-docs/stable/10min.html)\n",
    "\n",
    "1. Was ist der Vorteil eines Pandas Dataframe gegenüber einem Numpy Array?\n",
    "2. Wie legt man eine Pandas Dataframe an?\n",
    "3. Wie liest man eine .csv Datei in einen Pandas Dataframe?\n",
    "4. Wie schreibt man einen Pandas Dataframe in eine .csv Datei?\n",
    "4. Wie greift man auf den Index eines Pandas Dataframes zu?\n",
    "4. Wie greift man auf die Spaltennamen eines Dataframes zu?\n",
    "5. Wie greift man auf eine Spalte eines Dataframes zu?\n",
    "6. Wie greift man auf eine Zeile eines Dataframes zu?"
   ]
  },
  {
   "cell_type": "code",
   "execution_count": null,
   "metadata": {
    "collapsed": true
   },
   "outputs": [],
   "source": []
  }
 ],
 "metadata": {
  "kernelspec": {
   "display_name": "Python 2",
   "language": "python",
   "name": "python2"
  },
  "language_info": {
   "codemirror_mode": {
    "name": "ipython",
    "version": 2
   },
   "file_extension": ".py",
   "mimetype": "text/x-python",
   "name": "python",
   "nbconvert_exporter": "python",
   "pygments_lexer": "ipython2",
   "version": "2.7.11"
  },
  "nav_menu": {},
  "toc": {
   "navigate_menu": true,
   "number_sections": true,
   "sideBar": true,
   "threshold": 6,
   "toc_cell": false,
   "toc_section_display": "block",
   "toc_window_display": false
  }
 },
 "nbformat": 4,
 "nbformat_minor": 0
}
