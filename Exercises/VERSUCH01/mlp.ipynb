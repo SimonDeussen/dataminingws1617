{
 "cells": [
  {
   "cell_type": "code",
   "execution_count": 3,
   "metadata": {
    "collapsed": false
   },
   "outputs": [
    {
     "ename": "ImportError",
     "evalue": "cannot import name MLPClassifier",
     "output_type": "error",
     "traceback": [
      "\u001b[1;31m---------------------------------------------------------------------------\u001b[0m",
      "\u001b[1;31mImportError\u001b[0m                               Traceback (most recent call last)",
      "\u001b[1;32m<ipython-input-3-c5fed494e03f>\u001b[0m in \u001b[0;36m<module>\u001b[1;34m()\u001b[0m\n\u001b[0;32m      2\u001b[0m \u001b[1;32mimport\u001b[0m \u001b[0mnumpy\u001b[0m \u001b[1;32mas\u001b[0m \u001b[0mnp\u001b[0m\u001b[1;33m\u001b[0m\u001b[0m\n\u001b[0;32m      3\u001b[0m \u001b[1;32mimport\u001b[0m \u001b[0mmatplotlib\u001b[0m\u001b[1;33m.\u001b[0m\u001b[0mpyplot\u001b[0m \u001b[1;32mas\u001b[0m \u001b[0mplt\u001b[0m\u001b[1;33m\u001b[0m\u001b[0m\n\u001b[1;32m----> 4\u001b[1;33m \u001b[1;32mfrom\u001b[0m \u001b[0msklearn\u001b[0m\u001b[1;33m.\u001b[0m\u001b[0mneural_network\u001b[0m \u001b[1;32mimport\u001b[0m \u001b[0mMLPClassifier\u001b[0m\u001b[1;33m\u001b[0m\u001b[0m\n\u001b[0m\u001b[0;32m      5\u001b[0m \u001b[1;32mfrom\u001b[0m \u001b[0msklearn\u001b[0m\u001b[1;33m.\u001b[0m\u001b[0mmodel_selection\u001b[0m \u001b[1;32mimport\u001b[0m \u001b[0mcross_val_score\u001b[0m\u001b[1;33m\u001b[0m\u001b[0m\n\u001b[0;32m      6\u001b[0m \u001b[1;32mimport\u001b[0m \u001b[0mrandom\u001b[0m\u001b[1;33m\u001b[0m\u001b[0m\n",
      "\u001b[1;31mImportError\u001b[0m: cannot import name MLPClassifier"
     ]
    }
   ],
   "source": [
    "import pandas as pd\n",
    "import numpy as np\n",
    "import matplotlib.pyplot as plt\n",
    "from sklearn.neural_network import MLPClassifier\n",
    "from sklearn.model_selection import cross_val_score\n",
    "import random\n",
    "\n",
    "DATA_PATH = \"D:\\\\Data Mining\\\\data\\\\\""
   ]
  },
  {
   "cell_type": "code",
   "execution_count": 2,
   "metadata": {
    "collapsed": true
   },
   "outputs": [],
   "source": [
    "#23290 IDs\n",
    "#1466 lenght of one Dataset\n",
    "#23290 * 1466 = 3506672\n",
    "\n",
    "#traindata length encodearray 22766980\n",
    "\n",
    "#Tainset = 15530\n",
    "#Testset = 7760\n",
    "\n",
    "#Groups in Labellists\n",
    "################\n",
    "#0 = M22-\n",
    "#1 = M23-26\n",
    "#2 = M27-28\n",
    "#3 = M29-31\n",
    "#4 = M32-38\n",
    "#5 = M39+\n",
    "#6 = F23-\n",
    "#7 = F24-26\n",
    "#8 = F27-28\n",
    "#9 = F29-32\n",
    "#10 = F33-42\n",
    "#11 = F43+\n",
    "\n",
    "def chunks(liste, chunksize):\n",
    "#\"\"\"Yield successive n-sized chunks from l.\"\"\"\n",
    "    for i in range(0, len(liste), chunksize):\n",
    "        yield liste[i:i + chunksize]\n"
   ]
  },
  {
   "cell_type": "code",
   "execution_count": 3,
   "metadata": {
    "collapsed": false
   },
   "outputs": [],
   "source": [
    "testDataImport = np.load(DATA_PATH + \"testData.npy\")\n",
    "trainDataImport = np.load(DATA_PATH + \"trainData.npy\")\n",
    "                   \n",
    "testDataLabels = np.load(DATA_PATH + \"testLabels.npy\")\n",
    "trainDataLabels = np.load(DATA_PATH + \"trainLabels.npy\")\n",
    "\n",
    "trainData = np.concatenate((trainDataImport,testDataImport), axis=0)\n",
    "trainLabels = np.concatenate((trainDataLabels,testDataLabels), axis=0)"
   ]
  },
  {
   "cell_type": "code",
   "execution_count": 4,
   "metadata": {
    "collapsed": false
   },
   "outputs": [],
   "source": [
    "trainDataArray = list(chunks(trainData,1466))"
   ]
  },
  {
   "cell_type": "code",
   "execution_count": 7,
   "metadata": {
    "collapsed": false
   },
   "outputs": [],
   "source": [
    "clf = MLPClassifier(solver='adam', alpha=1e-5,hidden_layer_sizes=(100,), random_state=95335, shuffle=True, batch_size=64, learning_rate='adaptive', max_iter=200)\n",
    "#clf.fit(trainDataArray, trainLabels)    "
   ]
  },
  {
   "cell_type": "code",
   "execution_count": 8,
   "metadata": {
    "collapsed": true
   },
   "outputs": [],
   "source": [
    "cvs = cross_val_score(clf, trainDataArray, trainLabels, cv=5)"
   ]
  },
  {
   "cell_type": "code",
   "execution_count": 11,
   "metadata": {
    "collapsed": false
   },
   "outputs": [
    {
     "name": "stdout",
     "output_type": "stream",
     "text": [
      "Accuracy: 0.19 (+/- 0.04)\n"
     ]
    }
   ],
   "source": [
    "print(\"Accuracy: %0.2f (+/- %0.2f)\" % (cvs.mean(), cvs.std() * 2))"
   ]
  },
  {
   "cell_type": "code",
   "execution_count": 12,
   "metadata": {
    "collapsed": false
   },
   "outputs": [
    {
     "data": {
      "text/plain": [
       "array([ 0.18228608,  0.20617893,  0.20785914,  0.15449076,  0.17726687])"
      ]
     },
     "execution_count": 12,
     "metadata": {},
     "output_type": "execute_result"
    }
   ],
   "source": [
    "cvs"
   ]
  },
  {
   "cell_type": "code",
   "execution_count": 45,
   "metadata": {
    "collapsed": false
   },
   "outputs": [
    {
     "name": "stdout",
     "output_type": "stream",
     "text": [
      "[1 0 0 ..., 0 0 0]\n",
      "[1 0 0 ..., 0 0 0]\n",
      "[1 0 0 ..., 0 0 0]\n",
      "[1 0 0 ..., 0 0 0]\n",
      "[1 0 0 ..., 0 0 0]\n",
      "[1 0 0 ..., 0 0 0]\n",
      "[1 0 0 ..., 0 0 0]\n",
      "[1 0 0 ..., 0 0 0]\n",
      "[1 0 0 ..., 0 0 0]\n",
      "[1 0 0 ..., 0 0 0]\n",
      "[1 0 0 ..., 0 0 0]\n",
      "[1 0 0 ..., 0 0 0]\n",
      "[1 0 0 ..., 0 0 0]\n",
      "[1 0 0 ..., 0 0 0]\n",
      "[1 0 0 ..., 0 0 0]\n",
      "[1 0 0 ..., 0 0 0]\n",
      "[1 0 0 ..., 0 0 0]\n",
      "[1 0 0 ..., 0 0 0]\n",
      "[1 0 0 ..., 0 0 0]\n",
      "[1 0 0 ..., 0 0 0]\n",
      "[1 0 0 ..., 0 0 0]\n",
      "[1 0 0 ..., 0 0 0]\n",
      "[1 0 0 ..., 0 0 0]\n",
      "[1 0 0 ..., 0 0 0]\n",
      "[1 0 0 ..., 0 0 0]\n",
      "[1 0 0 ..., 0 0 0]\n",
      "[1 0 0 ..., 0 0 0]\n",
      "[1 0 0 ..., 0 0 0]\n",
      "[1 0 0 ..., 0 0 0]\n",
      "[1 0 0 ..., 0 0 0]\n",
      "[1 0 0 ..., 0 0 0]\n",
      "[1 0 0 ..., 0 0 0]\n",
      "[1 0 0 ..., 0 0 0]\n",
      "[1 0 0 ..., 0 0 0]\n",
      "[1 0 0 ..., 0 0 0]\n"
     ]
    }
   ],
   "source": [
    "for j in range(1000):\n",
    "        if trainDataArray[j][0] == 1:\n",
    "            print trainDataArray[j]"
   ]
  },
  {
   "cell_type": "code",
   "execution_count": 22,
   "metadata": {
    "collapsed": false
   },
   "outputs": [
    {
     "data": {
      "text/plain": [
       "23289"
      ]
     },
     "execution_count": 22,
     "metadata": {},
     "output_type": "execute_result"
    }
   ],
   "source": []
  },
  {
   "cell_type": "code",
   "execution_count": null,
   "metadata": {
    "collapsed": true
   },
   "outputs": [],
   "source": []
  }
 ],
 "metadata": {
  "kernelspec": {
   "display_name": "Python 2",
   "language": "python",
   "name": "python2"
  }
 },
 "nbformat": 4,
 "nbformat_minor": 0
}
