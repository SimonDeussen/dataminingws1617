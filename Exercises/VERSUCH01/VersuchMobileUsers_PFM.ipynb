{
 "cells": [
  {
   "cell_type": "code",
   "execution_count": 29,
   "metadata": {
    "collapsed": true
   },
   "outputs": [],
   "source": [
    "#-*- coding: utf-8 -*-"
   ]
  },
  {
   "cell_type": "code",
   "execution_count": 170,
   "metadata": {
    "collapsed": false
   },
   "outputs": [
    {
     "name": "stdout",
     "output_type": "stream",
     "text": [
      "imported numpy\n",
      "imported pandas\n",
      "imported scipy\n",
      "imported sqlalchemy\n",
      "----------------------------------------------------------------------------------------------------\n",
      "\n"
     ]
    }
   ],
   "source": [
    "import numpy as np\n",
    "print \"imported numpy\"\n",
    "import pandas as pd\n",
    "print \"imported pandas\"\n",
    "import scipy as sc\n",
    "print \"imported scipy\"\n",
    "import sqlalchemy as sql\n",
    "print \"imported sqlalchemy\"\n",
    "print \"-\"*100\n",
    "print\n",
    "\n",
    "done=\"done\""
   ]
  },
  {
   "cell_type": "markdown",
   "metadata": {},
   "source": [
    "IMPORT RAW DATA"
   ]
  },
  {
   "cell_type": "code",
   "execution_count": 192,
   "metadata": {
    "collapsed": false
   },
   "outputs": [],
   "source": [
    "mainPath = \"C:\\Users\\Paul\\Documents\\MI7\\\\4. Semester\\Data Mining und Mustererkennung\\Resources\\Resources_V1\"\n",
    "\n",
    "# DECLARE VARIABLES\n",
    "# RAW DATA\n",
    "\n",
    "raw_data_app_events = pd.read_csv(mainPath + \"\\\\app_events.csv\")\n",
    "raw_data_app_labels = pd.read_csv(mainPath + \"\\\\app_labels.csv\")\n",
    "raw_data_events = pd.read_csv(mainPath + \"\\\\events.csv\")\n",
    "raw_data_gender_age_test = pd.read_csv(mainPath + \"\\\\gender_age_test.csv\")\n",
    "raw_data_gender_age_train = pd.read_csv(mainPath + \"\\\\gender_age_train.csv\")\n",
    "raw_data_label_categories = pd.read_csv(mainPath + \"\\\\label_categories.csv\")\n",
    "raw_data_phone_brand_device_model = pd.read_csv(mainPath + \"\\\\phone_brand_device_model.csv\")\n",
    "raw_data_sample_submission = pd.read_csv(mainPath + \"\\\\sample_submission.csv\")\n",
    "\n",
    "raw_data=[raw_data_app_events, raw_data_app_labels, raw_data_events, raw_data_gender_age_test, raw_data_gender_age_train,raw_data_label_categories,raw_data_phone_brand_device_model,raw_data_sample_submission]\n",
    "\n",
    "raw_data_labels={\n",
    "                 0:\"app_events\", \n",
    "                 1:\"app_labels\", \n",
    "                 2:\"events\",\n",
    "                 3:\"gender_age_test\", \n",
    "                 4:\"gender_age_train\", \n",
    "                 5:\"label_categories\", \n",
    "                 6:\"phone_brand_device_model\",\n",
    "                 7:\"sample_submission\"\n",
    "                 }\n",
    "   "
   ]
  },
  {
   "cell_type": "code",
   "execution_count": 236,
   "metadata": {
    "collapsed": false
   },
   "outputs": [
    {
     "name": "stdout",
     "output_type": "stream",
     "text": [
      "186716\n"
     ]
    }
   ],
   "source": [
    "#Amount of unique devices\n",
    "uniqueDevices = set(raw_data[6][\"device_id\"])\n",
    "print len(uniqueDevices)\n"
   ]
  },
  {
   "cell_type": "code",
   "execution_count": null,
   "metadata": {
    "collapsed": true
   },
   "outputs": [],
   "source": [
    "REPLACE CHINESE LETTERS"
   ]
  },
  {
   "cell_type": "code",
   "execution_count": 1,
   "metadata": {
    "collapsed": true
   },
   "outputs": [],
   "source": [
    "brandMapFile=\"D:\\\\Data Mining\\\\data\\\\\""
   ]
  },
  {
   "cell_type": "code",
   "execution_count": 2,
   "metadata": {
    "collapsed": false
   },
   "outputs": [
    {
     "ename": "NameError",
     "evalue": "name 'raw_data' is not defined",
     "output_type": "error",
     "traceback": [
      "\u001b[1;31m---------------------------------------------------------------------------\u001b[0m",
      "\u001b[1;31mNameError\u001b[0m                                 Traceback (most recent call last)",
      "\u001b[1;32m<ipython-input-2-e656282b6c17>\u001b[0m in \u001b[0;36m<module>\u001b[1;34m()\u001b[0m\n\u001b[0;32m     18\u001b[0m \u001b[1;33m\u001b[0m\u001b[0m\n\u001b[0;32m     19\u001b[0m \u001b[1;33m\u001b[0m\u001b[0m\n\u001b[1;32m---> 20\u001b[1;33m \u001b[0mtranslateBrands\u001b[0m\u001b[1;33m(\u001b[0m\u001b[0mraw_data\u001b[0m\u001b[1;33m[\u001b[0m\u001b[1;36m6\u001b[0m\u001b[1;33m]\u001b[0m\u001b[1;33m[\u001b[0m\u001b[1;34m\"phone_brand\"\u001b[0m\u001b[1;33m]\u001b[0m\u001b[1;33m,\u001b[0m \u001b[0mbrandMapFile\u001b[0m\u001b[1;33m)\u001b[0m\u001b[1;33m\u001b[0m\u001b[0m\n\u001b[0m\u001b[0;32m     21\u001b[0m \u001b[1;33m\u001b[0m\u001b[0m\n\u001b[0;32m     22\u001b[0m \u001b[1;31m# raw_data_copy = raw_data[6].copy(deep=True)\u001b[0m\u001b[1;33m\u001b[0m\u001b[1;33m\u001b[0m\u001b[0m\n",
      "\u001b[1;31mNameError\u001b[0m: name 'raw_data' is not defined"
     ]
    }
   ],
   "source": [
    "# VALUES TO REPLACE\n",
    "\n",
    "# print raw_data[6]\n",
    "#df2[df2 > 0] = -df2\n",
    "# raw_data_copy[raw_data[6] in brandMap.keys()] = 5\n",
    "# print raw_data_copy[\"phone_brand\"]\n",
    "\n",
    "def translateBrands(chineseList, brandMapFilePath):\n",
    "    brandMapFile = open(brandMapFilePath, \"r\")\n",
    "    brandMapList=[x for x in brandMapFile.read().strip().split() if x]\n",
    "    brandMapList.remove(brandMapList[0]) \n",
    "    brandMap= dict()\n",
    "    for i in range(0,len(brandMapList),2):\n",
    "        brandMap.setdefault(brandMapList[i],brandMapList[i+1])\n",
    "    data = np.array(chineseList)\n",
    "    return [brandMap[brand] if brand in brandMap else brand for brand in data]\n",
    "\n",
    "\n",
    "\n",
    "translateBrands(raw_data[6][\"phone_brand\"], brandMapFile)\n",
    "\n",
    "# raw_data_copy = raw_data[6].copy(deep=True)\n",
    "# data = np.array(raw_data_copy[\"phone_brand\"])\n",
    "# print data\n",
    "# print [brandMap[brand] if brand in brandMap else brand for brand in data]\n",
    "\n",
    "\n",
    "# for i in range(len(raw_data_copy)):\n",
    "#     if raw_data_copy[\"phone_brand\"][i] in brandMap.keys():\n",
    "#         raw_data_copy[\"phone_brand\"][i]=brandMap[raw_data_copy[\"phone_brand\"][i]]\n",
    "\n",
    "# print raw_data_copy\n"
   ]
  },
  {
   "cell_type": "code",
   "execution_count": null,
   "metadata": {
    "collapsed": true
   },
   "outputs": [],
   "source": [
    "TEST"
   ]
  },
  {
   "cell_type": "code",
   "execution_count": 17,
   "metadata": {
    "collapsed": false
   },
   "outputs": [
    {
     "name": "stdout",
     "output_type": "stream",
     "text": [
      "INVALID INPUT\n",
      "<class 'pandas.core.frame.DataFrame'>\n"
     ]
    }
   ],
   "source": [
    "def printRawData(l):\n",
    "    if l not in raw_data_labels:\n",
    "        print \"INVALID INPUT\"\n",
    "        return\n",
    "    for i in range(0, len(raw_data_labels)-1):\n",
    "        if raw_data_labels[i] == l:\n",
    "            print raw_data_labels[i]\n",
    "            print raw_data[i]\n",
    "        \n",
    "\n",
    "            \n",
    "printRawData(\"*\")\n",
    "print type(raw_data_phone_brand_device_model)"
   ]
  }
 ],
 "metadata": {
  "kernelspec": {
   "display_name": "Python 2",
   "language": "python",
   "name": "python2"
  },
  "language_info": {
   "codemirror_mode": {
    "name": "ipython",
    "version": 2
   },
   "file_extension": ".py",
   "mimetype": "text/x-python",
   "name": "python",
   "nbconvert_exporter": "python",
   "pygments_lexer": "ipython2",
   "version": "2.7.11"
  }
 },
 "nbformat": 4,
 "nbformat_minor": 0
}
