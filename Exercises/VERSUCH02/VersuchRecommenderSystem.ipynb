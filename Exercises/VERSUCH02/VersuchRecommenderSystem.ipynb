{
 "cells": [
  {
   "cell_type": "markdown",
   "metadata": {
    "toc": "true"
   },
   "source": [
    "# Table of Contents\n",
    " <p><div class=\"lev1 toc-item\"><a href=\"#Data-Mining-Versuch-Recommender-Systeme\" data-toc-modified-id=\"Data-Mining-Versuch-Recommender-Systeme-1\"><span class=\"toc-item-num\">1&nbsp;&nbsp;</span>Data Mining Versuch Recommender Systeme</a></div><div class=\"lev1 toc-item\"><a href=\"#Einführung\" data-toc-modified-id=\"Einführung-2\"><span class=\"toc-item-num\">2&nbsp;&nbsp;</span>Einführung</a></div><div class=\"lev2 toc-item\"><a href=\"#Lernziele:\" data-toc-modified-id=\"Lernziele:-2.1\"><span class=\"toc-item-num\">2.1&nbsp;&nbsp;</span>Lernziele:</a></div><div class=\"lev2 toc-item\"><a href=\"#Theorie-zur-Vorbereitung\" data-toc-modified-id=\"Theorie-zur-Vorbereitung-2.2\"><span class=\"toc-item-num\">2.2&nbsp;&nbsp;</span>Theorie zur Vorbereitung</a></div><div class=\"lev3 toc-item\"><a href=\"#Recommender-Systeme\" data-toc-modified-id=\"Recommender-Systeme-2.2.1\"><span class=\"toc-item-num\">2.2.1&nbsp;&nbsp;</span>Recommender Systeme</a></div><div class=\"lev3 toc-item\"><a href=\"#Gebräuchliche-Ähnlichkeitsmaße\" data-toc-modified-id=\"Gebräuchliche-Ähnlichkeitsmaße-2.2.2\"><span class=\"toc-item-num\">2.2.2&nbsp;&nbsp;</span>Gebräuchliche Ähnlichkeitsmaße</a></div><div class=\"lev2 toc-item\"><a href=\"#Vor-dem-Versuch-zu-klärende-Fragen\" data-toc-modified-id=\"Vor-dem-Versuch-zu-klärende-Fragen-2.3\"><span class=\"toc-item-num\">2.3&nbsp;&nbsp;</span>Vor dem Versuch zu klärende Fragen</a></div><div class=\"lev1 toc-item\"><a href=\"#Versuchsdurchführung\" data-toc-modified-id=\"Versuchsdurchführung-3\"><span class=\"toc-item-num\">3&nbsp;&nbsp;</span>Versuchsdurchführung</a></div><div class=\"lev2 toc-item\"><a href=\"#Teil-1:-Fiktive-Filmbewertung\" data-toc-modified-id=\"Teil-1:-Fiktive-Filmbewertung-3.1\"><span class=\"toc-item-num\">3.1&nbsp;&nbsp;</span>Teil 1: Fiktive Filmbewertung</a></div><div class=\"lev3 toc-item\"><a href=\"#Daten\" data-toc-modified-id=\"Daten-3.1.1\"><span class=\"toc-item-num\">3.1.1&nbsp;&nbsp;</span>Daten</a></div><div class=\"lev3 toc-item\"><a href=\"#Ähnlichkeiten-berechnen\" data-toc-modified-id=\"Ähnlichkeiten-berechnen-3.1.2\"><span class=\"toc-item-num\">3.1.2&nbsp;&nbsp;</span>Ähnlichkeiten berechnen</a></div>"
   ]
  },
  {
   "cell_type": "markdown",
   "metadata": {},
   "source": [
    "# Data Mining Versuch Recommender Systeme\n",
    "\n",
    "* Autor: Prof. Dr. Johannes Maucher\n",
    "* Datum: 30.09.2015\n",
    "* [Download des Jupyter Notebooks (.ipynb)](VersuchRecommenderSystem.ipynb) Klick auf _Ziel speichern unter_. Im Verzeichnis, in dem das Notebook abgelegt wurde, Konsole öffnen und dort _jupyter notebook_ eingeben.\n",
    "\n",
    "[Übersicht Ipython Notebooks im Data Mining Praktikum (.html)](Data Mining Praktikum.html)\n",
    "\n",
    "\n",
    "# Einführung\n",
    "## Lernziele:\n",
    "In diesem Versuch sollen Kenntnisse in folgenden Themen vermittelt werden:\n",
    "\n",
    "* __Ähnlichkeit:__ Verfahren zur Bestimmung der Ähnlichkeit zwischen Personen (Kunden) und Elementen (Produkten)\n",
    "* __Empfehlungssysteme__ Collaborative Filtering \n",
    "* __Collaborative Filtering:__ Nutzerbezogener Ansatz und elementbasierter Ansatz\n",
    "\n",
    "Sämtliche Verfahren und Algorithmen werden in Python implementiert.\n",
    "\n",
    "## Theorie zur Vorbereitung\n",
    "### Recommender Systeme\n",
    "Recommender Systeme werden im E-Commerce eingesetzt um Werbung in Form von kundenspezifischen Empfehlungen zu verteilen. Weitläufig bekannt sind die Amazon-Empfehlungen, die entweder per e-mail geschickt oder nach dem Log-In in der Web-Page angezeigt werden. Diese Empfehlungen werden in Abhängigkeit von den bisher vom jeweiligen Kunden gekauften bzw. bewerteten Produkten erstellt. In diesem Versuch werden die derzeit wohl am weitest verbreiteteten Verfahren für die Erzeugung kundenspezifischer Empfehlungen vorgestellt, darunter das elementweise Collaborative Filtering, welches z.B. auch von Amazon eingesetzt wird.     \n",
    "\n",
    "Direkt-Marketing Methoden wie die kundenspezifische Erzeugung und Bereitstellung von Werbung erfordern detaillierte Kunden- und Warenkorbanalysen. Kunden mit ähnlichem Kaufverhalten werden in Kundengruppen zusammengefasst. Die Warenkorbanalyse untersucht u.a. welche Waren bevorzugt im Verbund von der gleichen Person gekauft werden. Damit kann ein Händler Werbung in Form von Empfehlungen individuell und gezielt an seine Kunden richten, abhängig davon welcher Kundengruppe er angehört und welche Produkte bevorzugt von dieser Kundengruppe nachgefragt werden. \n",
    "\n",
    "Im ersten Teil der Übung werden fiktive Daten in einer überschaubaren Menge verwendet. Es handelt sich hier um Filmbewertungen. Anhand dieses Beispiels sollen die notwendigen Methoden und Abläufe implementiert und getestet werden. Diese werden im zweiten Teil der Übung auf echte Daten angewandt. Hierzu werden über eine Python-API Daten vom Internet-Meta-Radio _last.fm_ integriert. Auf der Basis dieser Daten sollen dann Musikempfehlungen für last.fm User berechnet werden. \n",
    "\n",
    "Recommender Systeme lassen sich mit\n",
    "\n",
    "* Clustering Verfahren\n",
    "* Suchalgorithmen\n",
    "* Collaborativen Filtering \n",
    " \n",
    "realisieren. Am häufigsten wird hierbei das Collaborative Filtering eingesetzt. Für das Collaborative Filtering wird jeder der $M$ User durch einen $N$-dimensionalen Vektor beschrieben, wobei $N$ die Anzahl der Produkte im Angebot des Händlers ist. Jedes Element im Vektor gehört zu einem speziellen Produkt. Das Element hat den Wert 1, wenn der User dieses Produkt bereits gekauft hat, sonst 0 (andere Wertbelegungen sind möglich, z.B. wenn Produktbewertungen vorliegen). Alle $M$ Zeilenvektoren können zur _User/Item_ Matrix zusammengefasst werden (siehe Abbildung).\n",
    "\n",
    "![Abbildung User Item Matrix](https://www.hdm-stuttgart.de/~maucher/ipnotebooks/DataMining//Bilder/UserItemMatrix.png \"User Item Matrix\")"
   ]
  },
  {
   "cell_type": "markdown",
   "metadata": {},
   "source": [
    "Das traditionelle __userbasierte Collaborative Filtering (UCF)__, benutzt die Ähnlichkeit zwischen Benutzern: Um für User $U_i$ eine Empfehlung zu erzeugen wird zunächst der diesem User ähnlichste Kunde (oder eine Menge vom ähnlichsten Kunden) ermittelt. Dann werden $U_i$ die Produkte (Items) empfohlen, welche der ähnlichste Kunde gekauft hat, $U_i$ selbst jedoch noch nicht. \n",
    "\n",
    "Dieser Ansatz skaliert schlecht im Fall sehr großer _User/Item_-Matrizen. Ausserdem ist er für User, welche erst wenige Produkte gekauft haben unzuverlässig. Besser eignet sich in diesen Fällen das __itembasierte Collaborative Filtering (ICF)__. Es wird u.a. von Amazon.com eingesetzt. Diese Variante benutzt die Ähnlichkeit zwischen Produkten (Items). Dabei sind Produkte umso ähnlicher je mehr Kunden diese Produkte gemeinsam gekauft haben. Für die Produkte welche ein Referenzuser $U_i$ bereits gekauft hat, werden die ähnlichsten Produkte ermittelt. Diese ähnlichsten Produkte werden $U_i$ empfohlen, wenn er sie nicht schon selbst gekauft hat.\n",
    "\n",
    "Im folgenden Abschnitt werden einige gebräuchliche Metriken für die Berechnung der Ähnlichkeit zwischen Benutzern oder Artikeln vorgestellt. Für Collaboratives Filtering wird sehr häufig das Cosinus - Ähnlichkeitsmaß eingesetzt.\n"
   ]
  },
  {
   "cell_type": "markdown",
   "metadata": {},
   "source": [
    "### Gebräuchliche Ähnlichkeitsmaße\n",
    "\n",
    "Die __euklidische Distanz__ $d_E(\\underline{a},\\underline{b})$ zwischen zwei n-dimensionalen Vektoren $\\underline{a}=(a_1,\\ldots,a_n)$ und $\\underline{b}=(b_1,\\ldots,b_n)$ berechnet sich zu\n",
    "\t$$\n",
    "\td_E(\\underline{a},\\underline{b})=\\sqrt{\\sum_{i=1}^n (a_i-b_i)^2}\n",
    "\t$$\n",
    "Zwei Vektoren können als umso ähnlicher erachtet werden, je kleiner deren euklidische Distanz ist. \n",
    "Ein auf der euklidischen Metrik basierendes Ähnlichkeitsmaß zwischen zwei Vektoren $\\underline{a}$ und $\\underline{b}$ kann durch \n",
    "$$\n",
    "s_E(\\underline{a},\\underline{b})=\\frac{1}{1+d_E(\\underline{a},\\underline{b})}\n",
    "$$\n",
    "angegeben werden.\n",
    "\n",
    "\n",
    "__Pearson Korrelation__\n",
    "Die Ähnlichkeit zwischen zwei Vektoren kann auch durch den Pearson-Korrelationskoeffizient $\\rho_{\\underline{a},\\underline{b}}$ ausgedrückt werden. Er berechnet sich zu\n",
    "$$\n",
    "\\rho_{\\underline{a},\\underline{b}}= \\frac{1}{N}\\cdot \\sum\\limits_{i=1}^{N}\\frac{(a_i-\\overline{a})}{\\sigma_a} \\frac{(b_i-\\overline{b})}{\\sigma_b}\n",
    "$$\n",
    "Dabei bezeichnet $N$ die Länge der Vektoren, $\\overline{a}$ den Mittelwert und $\\sigma_a$ die Standardabweichung des Vektors $\\underline{a}$. \n",
    "\n",
    "Der Pearson-Korrelationskoeffizient misst die lineare Abhängigkeit zwischen zwei Vektoren. Der maximale Wert von $+1$ wird erreicht, wenn die durch die beiden Vektoren definierten N Punkte im 2-dimensionalen Raum auf einer ansteigenden Geraden liegen. Der Minimalwert von $-1$ wird erreicht, wenn die Punkte auf einer abfallenden Geraden liegen. Der Betrag des Koeffizienten ist umso kleiner, je stärker die Punkte von einer fiktiven Geraden (kann durch lineare Regression berechnet werden) abweichen. Der Koeffizient ist $0$ wenn keine lineare Abhängigkeit zwischen den Vektoren besteht.\n",
    "\n",
    "\n",
    "__Cosinus Ähnlichkeitsmaß__\n",
    "Die Ähnlichkeit zwischen zwei Vektoren kann auch durch den Cosinus $\\cos(\\underline{a},\\underline{b})$ ausgedrückt werden. Er berechnet sich zu\n",
    "$$\n",
    "\\cos(\\underline{a},\\underline{b})= \\frac{\\underline{a} \\cdot \\underline{b}}{\\left\\|\\underline{a}\\right\\|\\cdot \\left\\|\\underline{b}\\right\\|}\n",
    "$$\n",
    "wobei im Zähler das Skalarprodukt der beiden Vektoren steht und mit $\\left\\|\\underline{x}\\right\\|$ der Betrag des Vektors $\\underline{x}$ bezeichnet wird.\n",
    "\n",
    "Falls die Vektoren $\\underline{a}$ und $\\underline{b}$ mittelwertfrei sind, ist der Cosinus-Ähnlichkeitswert gleich dem Pearson-Korrelationswert. In der Dokument- und Textanalyse wird vornehmlich das Cosinus-Ähnlichkeitsmaß verwendet. \n",
    "\n",
    "\n",
    "__Russel Rao Ähnlichkeitsmaß__\n",
    "Die Russel Rao-Ähnlichkeit zwischen zwei binären Vektoren $\\underline{a}$ und $\\underline{b}$ mißt das Verhältnis zwischen der Anzahl $\\alpha$ der Stellen in denen beide Vektoren den Wert 1 haben und der Länge $n$ der Vektoren. Z.B. ist für die Vektoren $\\underline{a}=(1,0,1,0,0,1)$ und $\\underline{b}=(0,1,1,1,0,1)$ die Russel-Rao-Ähnlichkeit $s_{RR}(\\underline{a},\\underline{b})=2/6=0.333$.\n",
    "\n",
    "__Jaccard Ähnlichkeitsmaß__\n",
    "Die Jaccard-Ähnlichkeit zwischen zwei binären Vektoren $\\underline{a}$ und $\\underline{b}$ mißt das Verhältnis zwischen der Anzahl $\\alpha$ der Stellen in denen beide Vektoren den Wert $1$ haben und der Anzahl der Stellen in denen mindestens einer der beiden Vektoren ungleich $1$ ist. Z.B. ist für die Vektoren $\\underline{a}=(1,0,1,0,0,1)$ und $\\underline{b}=(0,1,1,1,0,1)$ die Jaccard-Ähnlichkeit $s_{J}(\\underline{a},\\underline{b})=2/5=0.5$. %Die Jaccard Metrik wird in diesem Versuch für die Bestimmung der Ähnlichkeit von _last.fm_-Usern eingesetzt.\n"
   ]
  },
  {
   "cell_type": "markdown",
   "metadata": {},
   "source": [
    "## Vor dem Versuch zu klärende Fragen\n",
    "Eine Untermenge der im Folgenden aufgeführten Fragen wird zu Beginn des Versuchs im Rahmen eines Gruppenkolloqs abgefragt. Auf jede Frage sollte von mindestens einem Gruppenmitglied eine Antwort geliefert werden und jedes Gruppenmitglied muss mindestens eine der gestellten Fragen beantworten können.\n",
    "\n",
    "**Aufgaben:**\n",
    "\n",
    "* Beschreiben Sie das Prinzip des userbasierten Collaborativen Filtering (UCF)."
   ]
  },
  {
   "cell_type": "markdown",
   "metadata": {
    "collapsed": true
   },
   "source": [
    "Beim userbarsierten Collaborativen Filtering wird eine Matrix erstellt. Für N User wird ein Vektor M angelegt mit den bereits gekauften Items.\n",
    "Um für einen User x Empfehlungen zu finden, wird zunächst der ähnlichste Kunde bzw. die ähnlichsten Kunden bestimmt. \n",
    "Empfohlen werden dann die Items, die der User x noch nicht gekauft hat, die aber schon von den ähnlichen Kunden gekauft wurden."
   ]
  },
  {
   "cell_type": "markdown",
   "metadata": {},
   "source": [
    "* Welche Nachteile hat das UCF?"
   ]
  },
  {
   "cell_type": "markdown",
   "metadata": {
    "collapsed": true
   },
   "source": [
    "Skaliert schlecht bei großen User/Item Matrizen. Außerdem ist es unzuverlässig für User, die noch nicht viel gekauft haben."
   ]
  },
  {
   "cell_type": "markdown",
   "metadata": {},
   "source": [
    "* Worin besteht der Unterschied zwischen UCF und itembasierten Collaborativen Filtering (ICF)?"
   ]
  },
  {
   "cell_type": "markdown",
   "metadata": {
    "collapsed": true
   },
   "source": [
    "Bei ICF wird wieder eine User/Item Matrix erstellt, allerdings wird hier die Ähnlichkeit der Items bestimmt, anhand daran wie viele User bestimmte Items zusammen gekauft haben."
   ]
  },
  {
   "cell_type": "markdown",
   "metadata": {},
   "source": [
    "* Gegeben seien die Vektoren \n",
    "\n",
    "    \\begin{eqnarray*}\n",
    "    \\underline{a} & = & [1,2,3,4,5,6] \\\\\n",
    "    \\underline{b} & = & [3,3,5,6,7,8] \\\\\n",
    "    \\end{eqnarray*}\n",
    "    \n",
    "    Schreiben Sie eine Python Funktion, die den Mittelwert derartiger Vektoren berechnet. Schreiben Sie eine weitere Funktion, die die Varianz berechnet"
   ]
  },
  {
   "cell_type": "code",
   "execution_count": 21,
   "metadata": {
    "collapsed": false
   },
   "outputs": [],
   "source": [
    "import math\n",
    "import numpy as np\n",
    "import scipy as scp\n",
    "import pandas as pd"
   ]
  },
  {
   "cell_type": "code",
   "execution_count": 12,
   "metadata": {
    "collapsed": false
   },
   "outputs": [
    {
     "name": "stdout",
     "output_type": "stream",
     "text": [
      "3\n",
      "5\n",
      "3.16666666667\n",
      "3.66666666667\n"
     ]
    }
   ],
   "source": [
    "def average(vector):\n",
    "    return reduce(lambda x, y: x + y, vector)/len(vector)\n",
    "    \n",
    "print average([1, 2, 3, 4, 5, 6])\n",
    "print average([3, 3, 5, 6, 7, 8])\n",
    "\n",
    "def variance(vector):\n",
    "    avg = average(vector)\n",
    "    return reduce(lambda x, y: x + math.pow(y - avg, 2), vector, 0)/len(vector)\n",
    "\n",
    "print variance([1, 2, 3, 4, 5, 6])\n",
    "print variance([3, 3, 5, 6, 7, 8])"
   ]
  },
  {
   "cell_type": "markdown",
   "metadata": {},
   "source": [
    "* Wie groß ist die\n",
    "\n",
    "    - Euklidische Ähnlichkeit\n",
    "    - Pearson Ähnlichkeit\n",
    "    - Cosinus Ähnlichkeit\n",
    "    \n",
    "    zwischen den Vektoren $\\underline{a}$ und $\\underline{b}$? "
   ]
  },
  {
   "cell_type": "code",
   "execution_count": 40,
   "metadata": {
    "collapsed": false
   },
   "outputs": [
    {
     "name": "stdout",
     "output_type": "stream",
     "text": [
      "4.58257569496\n",
      "0.983343422063\n",
      "0.991060084745\n"
     ]
    }
   ],
   "source": [
    "def euclidean(vec1, vec2):\n",
    "    if (len(vec1) != len(vec2)):\n",
    "        raise ValueError(\"Vectors are not the same size!\")\n",
    "    a = np.array(vec1)\n",
    "    b = np.array(vec2)\n",
    "    return np.linalg.norm(a-b)\n",
    "\n",
    "print euclidean([1, 2, 3, 4, 5, 6], [3, 3, 5, 6, 7, 8])\n",
    "\n",
    "def pearson(vec1, vec2):\n",
    "    return scp.stats.pearsonr(vec1, vec2)[0]\n",
    "\n",
    "print pearson([1, 2, 3, 4, 5, 6], [3, 3, 5, 6, 7, 8])\n",
    "\n",
    "def cosine(vec1, vec2):\n",
    "    return 1 - scp.spatial.distance.cosine(vec1, vec2)\n",
    "\n",
    "print cosine([1, 2, 3, 4, 5, 6], [3, 3, 5, 6, 7, 8])"
   ]
  },
  {
   "cell_type": "markdown",
   "metadata": {},
   "source": [
    "* In welchen Fällen sind Cosinus- und Pearsonähnlichkeit der euklidischen Ähnlichkeit vorzuziehen?"
   ]
  },
  {
   "cell_type": "markdown",
   "metadata": {
    "collapsed": true
   },
   "source": [
    "Die Cosinus- und Pearsonähnlichkeit werden durch die Streckung eines Vektors um einen konstanten Wert nicht beeinflusst. \n",
    "Zudem wird die Pearsonähnlichkeit nicht durch die Addition von konstanten Zahlen auf den Vektor beeinflusst.\n",
    "Diese Eigenschaft ist vor Allem wichtig wenn die Beziehung zwischen den Werten zweier Vektoren nicht wichtig ist,\n",
    "sondern z.B nur die Unterschiede innerhalb der jeweiligen Vektoren."
   ]
  },
  {
   "cell_type": "code",
   "execution_count": 7,
   "metadata": {
    "collapsed": false
   },
   "outputs": [],
   "source": [
    "from IPython.display import Latex\n",
    "from IPython.display import Image\n",
    "import pylast"
   ]
  },
  {
   "cell_type": "markdown",
   "metadata": {},
   "source": [
    "# Versuchsdurchführung\n",
    "## Teil 1: Fiktive Filmbewertung\n",
    "### Daten\n",
    "Folgende Tabelle enthält die Filmbewertungen von 7 Personen.\n",
    "from IPython.display import Latex\n",
    "In diesem Versuch sollen Kenntnisse in folgenden Themen vermittelt werden:\n",
    "\n",
    "![Abbildung Bewertung Fiktive Kunden](https://www.hdm-stuttgart.de/~maucher/ipnotebooks/DataMining/Bilder/recommenderFilmRecommendations.PNG)"
   ]
  },
  {
   "cell_type": "markdown",
   "metadata": {},
   "source": [
    "Die Tabelle ist als Python dictionary _critics_ implementiert. Die Keys des Python-Dictionary definieren die Namen von Personen (Zeilen in der Matrix), die Filme bewertet haben. Die Values sind selbst wieder Dictionarys, welche als Keys die Filmnamen (Spalten in der Matrix) und als Values die jeweilige Filmbewertung (Matrixelment) enthalten."
   ]
  },
  {
   "cell_type": "code",
   "execution_count": 2,
   "metadata": {
    "collapsed": true
   },
   "outputs": [],
   "source": [
    "critics={'Lisa Rose': {'Lady in the Water': 2.5, 'Snakes on a Plane': 3.5,\n",
    " 'Just My Luck': 3.0, 'Superman Returns': 3.5, 'You, Me and Dupree': 2.5, \n",
    " 'The Night Listener': 3.0},\n",
    "'Gene Seymour': {'Lady in the Water': 3.0, 'Snakes on a Plane': 3.5, \n",
    " 'Just My Luck': 1.5, 'Superman Returns': 5.0, 'The Night Listener': 3.0, \n",
    " 'You, Me and Dupree': 3.5}, \n",
    "'Michael Phillips': {'Lady in the Water': 2.5, 'Snakes on a Plane': 3.0,\n",
    " 'Superman Returns': 3.5, 'The Night Listener': 4.0},\n",
    "'Claudia Puig': {'Snakes on a Plane': 3.5, 'Just My Luck': 3.0,\n",
    " 'The Night Listener': 4.5, 'Superman Returns': 4.0, \n",
    " 'You, Me and Dupree': 2.5},\n",
    "'Mick LaSalle': {'Lady in the Water': 3.0, 'Snakes on a Plane': 4.0, \n",
    " 'Just My Luck': 2.0, 'Superman Returns': 3.0, 'The Night Listener': 3.0,\n",
    " 'You, Me and Dupree': 2.0}, \n",
    "'Jack Matthews': {'Lady in the Water': 3.0, 'Snakes on a Plane': 4.0,\n",
    " 'The Night Listener': 3.0, 'Superman Returns': 5.0, 'You, Me and Dupree': 3.5},\n",
    "'Toby': {'Snakes on a Plane':4.5,'You, Me and Dupree':1.0,'Superman Returns':4.0}\n",
    "}"
   ]
  },
  {
   "cell_type": "markdown",
   "metadata": {},
   "source": [
    "### Ähnlichkeiten berechnen\n",
    "\n",
    "Für die Bestimmung der Ähnlichkeit zwischen Personen und Produkten werden in diesem Versuch ein auf der euklidischen Distanz basierendes Ähnlichkeitsmaß und die Pearson-Korrelation verwendet. Beide Ähnlichkeitsmaße sind in den unten definierten Funktionen implementiert. Alle drei hier implementierten Funktionen zur Berechnung der Ähnlichkeit erhalten als Übergabeparameter das oben definierte Dictionary, das die Filmbewertungen enthält und die Namen der zwei Personen, die verglichen werden sollen. \n",
    "\n",
    "Zu beachten ist, dass in beiden Funktionen für die Berechnung der Ähnlichkeit zwischen zwei Personen nur die Produkte berücksichtigt werden, welche von beiden Personen schon bewertet wurden. Es handelt sich hier also um modifizierte Ähnlichkeitsfunktionen. \n",
    "\n",
    "__Aufgabe:__\n",
    "Fragen Sie von diesem Dictionary _Toby's_ Bewertung des Films _Snakes on a Plane_ ab und geben Sie diesen Wert aus: "
   ]
  },
  {
   "cell_type": "code",
   "execution_count": 9,
   "metadata": {
    "collapsed": false
   },
   "outputs": [],
   "source": [
    "#Your Code"
   ]
  },
  {
   "cell_type": "code",
   "execution_count": 1,
   "metadata": {
    "collapsed": false
   },
   "outputs": [],
   "source": [
    "import numpy as np\n",
    "import scipy.spatial.distance as sci\n",
    "\n",
    "\n",
    "def sim_euclid(prefs,person1,person2,normed=True):\n",
    "  ''' Returns a euclidean-distance-based similarity score for \n",
    "  person1 and person2. In the distance calculation the sum is computed \n",
    "  only over those items, which are nonzero for both instances, i.e. only\n",
    "  films which are ranked by both persons are regarded.\n",
    "  If the parameter normed is True, then the euclidean distance is divided by\n",
    "  the number of non-zero elements integrated in the distance calculation. Thus\n",
    "  the effect of larger distances in the case of an increasing number of commonly ranked\n",
    "  items is avoided.\n",
    "  '''\n",
    "  # Get the list of shared_items\n",
    "  si={}\n",
    "  for item in prefs[person1]: \n",
    "    if item in prefs[person2]: si[item]=1\n",
    "  # len(si) counts the number of common ratings\n",
    "  # if they have no ratings in common, return 0\n",
    "  if len(si)==0: return 0\n",
    "\n",
    "  # Add up the squares of all the differences\n",
    "  sum_of_squares=np.sqrt(sum([pow(prefs[person1][item]-prefs[person2][item],2) \n",
    "                     for item in prefs[person1] if item in prefs[person2]]))\n",
    "  if normed:\n",
    "     sum_of_squares= 1.0/len(si)*sum_of_squares\n",
    "  return 1/(1+sum_of_squares)\n",
    "\n",
    "\n",
    "def sim_pearson(prefs,p1,p2):\n",
    "  '''\n",
    "  Returns the Pearson correlation coefficient for p1 and p2\n",
    "  '''\n",
    "    \n",
    "  # Get the list of commonly rated items\n",
    "  si={}\n",
    "  for item in prefs[p1]: \n",
    "    if item in prefs[p2]: si[item]=1\n",
    "\n",
    "  # if they are no ratings in common, return 0\n",
    "  if len(si)==0: return 0\n",
    "\n",
    "  # Sum calculations\n",
    "  n=len(si)\n",
    "  \n",
    "  # Calculate means of person 1 and 2\n",
    "  mp1=np.mean([prefs[p1][it] for it in si])\n",
    "  mp2=np.mean([prefs[p2][it] for it in si])\n",
    "  \n",
    "  # Calculate standard deviation of person 1 and 2\n",
    "  sp1=np.std([prefs[p1][it] for it in si])\n",
    "  sp2=np.std([prefs[p2][it] for it in si])\n",
    "  \n",
    "  # If all elements in one sample are identical, the standard deviation is 0. \n",
    "  # In this case there is no linear correlation between the samples\n",
    "  if sp1==0 or sp2==0:\n",
    "      return 0\n",
    "  r=1/(n*sp1*sp2)*sum([(prefs[p1][it]-mp1)*(prefs[p2][it]-mp2) for it in si])\n",
    "  return r\n",
    "\n",
    "\n",
    "def sim_RusselRao(prefs,person1,person2,normed=True):\n",
    "  ''' Returns RusselRao similaritiy between 2 users. The RusselRao similarity just counts the number\n",
    "  of common non-zero components of the two vectors and divides this number by N, where N is the length\n",
    "  of the vectors. If normed=False, the division by N is omitted.\n",
    "  '''\n",
    "  # Get the list of shared_items\n",
    "  si={}\n",
    "  commons=0\n",
    "  for item in prefs[person1]: \n",
    "    if prefs[person1][item]==1 and prefs[person2][item]==1:   \n",
    "        commons+=1\n",
    "  #print commons\n",
    "  if not normed:\n",
    "      return commons\n",
    "  else:\n",
    "      return commons*1.0/len(prefs[person1]) "
   ]
  },
  {
   "cell_type": "markdown",
   "metadata": {},
   "source": [
    "**Aufgabe:**\n",
    "1. Geben Sie die euklidische Ähnlichkeit und die Pearson Ähnlichkeit zwischen den Personen _Toby_ und _Lisa Rose_ aus.\n",
    "2. Diskutieren Sie die unterschiedlichen Ähnlichkeitswert\n",
    "3. Welches Ähnlichkeitsmaß erscheint Ihnen für diese Anwendung am besten geeignet?"
   ]
  },
  {
   "cell_type": "code",
   "execution_count": 5,
   "metadata": {
    "collapsed": false
   },
   "outputs": [],
   "source": [
    "#Your Code"
   ]
  },
  {
   "cell_type": "markdown",
   "metadata": {},
   "source": [
    "__Aufgabe:__\n",
    "0. Schreiben Sie eine Funktion _topMatches(prefs,person,similarity)_, welche für eine beliebige in _critics_ enthaltene Person die Ähnlichkeitswerte zu allen anderen Personen berechnet und in einer geordneten Liste zurück gibt. Der Funktion soll als Übergabeparameter auch die anzuwendende Ähnlichkeitsfunktion (_sim_euclid_ oder _sim_pearson_) übergeben werden können. Berechnen Sie mit dieser Funktion für jede Person die _top matches_, zunächst unter Verwendung der euklidischen- dann unter Verwendung der Pearson-Ähnlichkeit.\n",
    "1. Geben Sie mit der implementierten Funktion die _top matches_ der Person Toby aus.\n",
    "2. Vergleichen Sie die beiden Ähnlichkeitsmaße. Welches Ähnlichkeitsmaß erscheint Ihnen für diesen Anwendungsfall sinnvoller und warum?"
   ]
  },
  {
   "cell_type": "code",
   "execution_count": 12,
   "metadata": {
    "collapsed": false
   },
   "outputs": [
    {
     "name": "stdout",
     "output_type": "stream",
     "text": [
      "Jack Matthews\n",
      "\n",
      "[0.65345379354447219, 0.90909090909090906, 0.72082548868148033, 0.65345379354447219, 0.66666666666666663, 0.52277442494833892]\n",
      "[0.028571428571428571, 0.96379568187563314, 0.74701788083399612, 0.13483997249264842, 0.21128856368212914, 0.66284898035987028]\n",
      "\n",
      "\n",
      "Mick LaSalle\n",
      "\n",
      "[0.69643222919250936, 0.69783052074803786, 0.66666666666666663, 0.80925643016945381, 0.71669960590098081, 0.66666666666666663]\n",
      "[0.56694670951384085, 0.41176470588235292, 0.21128856368212914, 0.59408852578600457, -0.2581988897471611, 0.92447345164190509]\n",
      "\n",
      "\n",
      "Claudia Puig\n",
      "\n",
      "[0.66229466032529927, 0.65345379354447219, 0.75974692664795784, 0.77599076226020414, 0.69643222919250936, 0.62463879770504627]\n",
      "[0.31497039417435596, 0.028571428571428571, 0.56694670951384085, 1.0000000000000002, 0.56694670951384085, 0.89340514744156441]\n",
      "\n",
      "\n",
      "Lisa Rose\n",
      "\n",
      "[0.75974692664795784, 0.71446298942353204, 0.72082548868148033, 0.78155010474579123, 0.80925643016945381, 0.615911621788925]\n",
      "[0.56694670951384085, 0.39605901719066977, 0.74701788083399601, 0.40451991747794525, 0.59408852578600457, 0.99124070716193025]\n",
      "\n",
      "\n",
      "Toby\n",
      "\n",
      "[0.62463879770504627, 0.51087470692394266, 0.52277442494833892, 0.615911621788925, 0.55848155988774706, 0.66666666666666663]\n",
      "[0.89340514744156441, 0.38124642583151169, 0.66284898035987028, 0.99124070716193025, -1.0, 0.92447345164190509]\n",
      "\n",
      "\n",
      "Gene Seymour\n",
      "\n",
      "[0.66229466032529927, 0.90909090909090906, 0.71446298942353204, 0.67379863735389112, 0.69783052074803786, 0.51087470692394266]\n",
      "[0.31497039417435596, 0.96379568187563303, 0.39605901719066977, 0.20459830184114203, 0.41176470588235292, 0.38124642583151169]\n",
      "\n",
      "\n",
      "Michael Phillips\n",
      "\n",
      "[0.77599076226020414, 0.67379863735389112, 0.65345379354447219, 0.78155010474579123, 0.71669960590098081, 0.55848155988774706]\n",
      "[1.0000000000000002, 0.20459830184114203, 0.13483997249264842, 0.40451991747794525, -0.2581988897471611, -1.0]\n",
      "\n",
      "\n"
     ]
    }
   ],
   "source": [
    "# Returns a copy of the dict without the key in it, in Lisp usually referred to as dissoc\n",
    "def dissoc(collection, candidate):\n",
    "    copy = dict()\n",
    "    for key in collection.keys():\n",
    "        if key != candidate:\n",
    "            copy[key] = collection[key]\n",
    "    return copy\n",
    "\n",
    "def topMatches(prefs, person, similarity):\n",
    "    return [similarity(prefs, person, candidate) for candidate in sorted(dissoc(prefs, person))]\n",
    "\n",
    "for person in critics.iterkeys():\n",
    "    print person + '\\n'\n",
    "    print topMatches(critics, person, sim_euclid)\n",
    "    print topMatches(critics, person, sim_pearson)\n",
    "    print '\\n'"
   ]
  },
  {
   "cell_type": "markdown",
   "metadata": {},
   "source": [
    "__Aufgabe:__\n",
    "Schreiben Sie eine Funktion _getRecommendations(prefs,person,similarity)_, mit der die Empfehlungswerte berechnet werden können und bestimmen Sie die Empfehlungswerte für Toby. Der Funktion wird  \n",
    "\n",
    "* das Dictionary _critics_ mit den Filmbewertungen, \n",
    "* der Name der Person, für welche Empfehlungen berechnet werden sollen\n",
    "* die Methode für die Berechnung der Ähnlichkeit _sim_euclid_ oder _sim_pearson_\n",
    "\n",
    "übergeben. Die Methode soll eine geordnete Liste zurück geben. Jedes Listenelement enthält an erster Stelle den berechneten Empfehlungswert und an zweiter Stelle den Namen des Films. Die Liste soll nach Empfehlungswerten absteigend geordnet sein.\n",
    "\n",
    "Testen Sie diese Funktion indem Sie die Empfehlungen für _Toby_ berechnen und mit den Werten in der oben aufgeführten Tabelle vergleichen."
   ]
  },
  {
   "cell_type": "markdown",
   "metadata": {},
   "source": [
    "### Berechnung von Empfehlungen mit User basiertem Collaborative Filtering\n",
    "Für die Produkte, die von einer Person noch nicht gekauft wurden, sollen Empfehlungen berechnet werden. Die Empfehlungen können ebenfalls Werte zwischen 1 (wird nicht empfohlen) und 5 (wird stark empfohlen) annehmen. Für die Berechnung der Empfehlung werden die Bewertungen des jeweiligen Produkts durch die anderen Personen herangezogen. Dabei werden die Bewertungen der ähnlichen Personen (d.h. hoher Pearson-Korrelationswert) stärker mit einbezogen als die Bewertungen durch Personen mit einem niedrigen Korrelationswert.\n",
    "\n",
    "__Beispiel:__\n",
    "Toby hat die Filme _The Night Listener_, _Lady in the Water_ und _Just My Luck_ noch nicht gekauft. Für diese Filme soll für Toby eine Empfehlung berechnet werden.\n",
    "In der unten aufgeführten Tabelle enthält die zweite Spalte die _Pearson-Ähnlichkeitswerte_ zwischen Toby und den anderen Personen. Die Spalten 3, 5 und 7 enthalten die Bewertungen der Filme _The Night Listener_, _Lady in the Water_ und _Just My Luck_ durch die anderen Personen. Die Spalten 4, 6 und 8 enthalten die jeweilige Filmbewertung gewichtet (mulipliziert) mit den Ähnlichkeitswerten der jeweiligen Person. Es fällt auf, dass in der Tabelle _Michael_ nicht enthalten ist. Das liegt daran, dass _Michael_ und _Toby_ einen negativen Ähnlichkeitswert aufweisen, d.h. deren Interessen sind gegenläufig. Personen mit negativem Ähnlichkeitswert sollten für Empfehlungen nicht berücksichtigt werden.\n",
    "Die Zeile _Sum_ enthält die Summe aller gewichteten Bewertungen. Aus diesem Wert allein kann die Empfehlung noch nicht abgeleitet werden, da Filme die nur von wenigen Personen bewertet wurden, eine relativ kleine Summe ergeben. Deshalb sollte _Sum_ noch durch die Anzahl der Bewertungen für diesen Film geteilt werden. Oder besser: Nicht durch die Summe der Bewertungen, sondern durch die Summe der relevanten Ähnlichkeitswerte (_KSum_). Der resultierende Empfehlungswert ist in der letzten Zeile eingetragen.\n",
    "\n",
    "\n",
    "![Abbildung Calculate Recommendation](https://www.hdm-stuttgart.de/~maucher/ipnotebooks/DataMining/Bilder/recommenderFilmCalculation.PNG)\n"
   ]
  },
  {
   "cell_type": "code",
   "execution_count": 20,
   "metadata": {
    "collapsed": false
   },
   "outputs": [
    {
     "name": "stdout",
     "output_type": "stream",
     "text": [
      "[8.3838083414046878, 8.0747541058415617, 12.899751858472692]\n",
      "[2.9598095649952172, 3.1903657320769114, 3.8532147124367819]\n",
      "[('Lady in the Water', 2.8325499182641622), ('Just My Luck', 2.5309807037655645), ('The Night Listener', 3.3477895267131013)]\n"
     ]
    }
   ],
   "source": [
    "def getAllItems(prefs):\n",
    "    \"\"\"Returns a set of all items in the dictionary\"\"\"\n",
    "    items = set()\n",
    "    for name, ratings in prefs.iteritems():\n",
    "        for movie in ratings.keys():\n",
    "            items.add(movie)\n",
    "    return items\n",
    "\n",
    "def getSortedMatrix(prefs, person, relevant_items):\n",
    "    \"\"\"Returns a sorted matrix like the one shown above, with only the relevant items (movies) included\"\"\"\n",
    "    matrix = list()\n",
    "    for person in sorted(dissoc(prefs, person)):\n",
    "        ratings = prefs[person]\n",
    "        temp = list()\n",
    "        for relevant_item in relevant_items:\n",
    "            if relevant_item in ratings:\n",
    "                temp.append(ratings[relevant_item])\n",
    "            else:\n",
    "                temp.append(None)\n",
    "        matrix.append(temp)\n",
    "    return matrix\n",
    "\n",
    "def weightRow(row, weight):\n",
    "    \"\"\"Apply the weight for every row\"\"\"\n",
    "    return [value * weight if value != None else 0 for value in row ]\n",
    "\n",
    "def weightMatrix(matrix, weights):\n",
    "    \"\"\"Weight all rows in the matrix with the supplied weights\"\"\"\n",
    "    return [weightRow(*pair) for pair in zip(matrix, weights)]\n",
    "\n",
    "def getRecommendationCandidates(prefs, person):\n",
    "    \"\"\"Remove all movies from the list that person has already watched\"\"\"\n",
    "    return getAllItems(prefs).difference(prefs[person])\n",
    "\n",
    "\n",
    "def calcSum(matrix):\n",
    "    \"\"\"Calculate the sum for each column\"\"\"\n",
    "    return reduce(lambda itemsA, itemsB: [x + y for x,y in zip(itemsA, itemsB)], matrix)\n",
    "\n",
    "def calcKSum(correlations, matrix):\n",
    "    \"\"\"Calculate the k-sum for each column of the matrix for the given correlations\"\"\"\n",
    "    kSums = [0] * len(matrix[0])\n",
    "    for correlation, row in zip(correlations, matrix):\n",
    "        for i in range(len(row)):\n",
    "            if row[i] != None:\n",
    "                kSums[i] += correlation\n",
    "    return kSums\n",
    "    \n",
    "    \n",
    "def removeContrary(correlations, iterable):\n",
    "    \"\"\"Remove contrary correlations with the value -1\"\"\"\n",
    "    return [x for x,correlation in zip(iterable, correlations) if correlation > -1]\n",
    "\n",
    "def getRecommendations(prefs,person,similarity):\n",
    "    # Get all of the top matches for the person\n",
    "    matches = topMatches(prefs, person, similarity)\n",
    "    \n",
    "    # Get the movies that person has not already watched\n",
    "    recommendations = getRecommendationCandidates(prefs, person)\n",
    "    \n",
    "    # Get Person / Movie Matrix without contrary ratings (-1)\n",
    "    matrix = removeContrary(matches, getSortedMatrix(prefs, person, recommendations))\n",
    "    \n",
    "    # Remove the contrary ratings from the ratings aswell\n",
    "    weights = removeContrary(matches, matches)\n",
    "        \n",
    "    # Apply the weights to the matrix\n",
    "    weightedMatrix = weightMatrix(matrix, weights)\n",
    "\n",
    "    # Calculate the sums for each entry\n",
    "    calculated_sum = calcSum(weightedMatrix)\n",
    "    \n",
    "    # Calculate the Ksum for each entry\n",
    "    calculated_ksum = calcKSum(weights, matrix)\n",
    "    \n",
    "    # Divide the sums by its ksum\n",
    "    sum_divided_by_ksum = [x/y for x, y in zip(calculated_sum, calculated_ksum)]\n",
    "\n",
    "    return zip(recommendations, sum_divided_by_ksum)\n",
    "\n",
    "print getRecommendations(critics, 'Toby', sim_pearson)"
   ]
  },
  {
   "cell_type": "markdown",
   "metadata": {},
   "source": [
    "### Berechnung von Empfehlungen mit Item basiertem Collaborative Filtering\n",
    "In den vorigen Aufgaben wurden Ähnlichkeiten zwischen Personen bestimmt und für Produktempfehlungen benutzt (User basiertes Collaborative Filtering). Jetzt soll die Ähnlichkeit zwischen Produkten berechnet werden und auf der Basis dieser Produktähnlichkeit Empfehlungen berechnet werden (Item basiertes Collaborative Filtering).\n",
    "\n",
    "Dabei sollen die bereits implementierten Ähnlichkeitsfunktion _sim_euclid_ und _sim_pearson_ sowie die Ähnlichkeeits-Sortierfunktion _topMatches_ unverändert eingesetzt werden.\n",
    "\n",
    "__Aufgabe:__\n",
    "\n",
    "1. Implementieren Sie eine Funktion, welche das Bewertungsdictionary _critics_ derart transformiert, dass die Funktionen _sim_euclid_, _sim_pearson_ und _topMatches_ für das Item basierte CF unverändert eingesetzt werden können. Die transformierte Matrix soll unter dem Namen _transCritics_ abgespeichert werden.\n",
    "2. Schreiben Sie eine Funktion _calculateSimilarItems_, die aus der transformierten Matrix _transCritics_ ein Dictionary berechnet, welches die Ähnlichkeit zwischen allen Filmen beschreibt. Die Keys des Dictionary sind die Filmnamen. Die Values sind geordnete Listen, welche die Funktion _topMatches_ zurückgibt, wenn sie für die Filme (nicht für die User) aufgerufen wird. Dieses Dictionary wird an das aufrufende Programm zurück geben. \n",
    "3. Schreiben Sie eine Funktion _getRecommendedItems_, welche basierend auf dem im unten aufgeführten Beispiel dargestellten Verfahren unter Vorgabe der Bewertungsmatrix und der zu verwendenden Ähnlichkeitsfunktion Produktempfehlungen berechnet.\n",
    "4. Testen Sie die Funktion indem Sie die Empfehlungen für Toby berechnen und mit den Werten in der unten aufgeführten Tabelle vergleichen\n",
    "\n",
    "__Erläuterndes Beispiel:__\n",
    "\n",
    "_Toby_ hat die Filme _The Night Listener_, _Lady in the Water_ und _Just My Luck_ noch nicht gekauft. Für diese Filme soll für _Toby_ eine Empfehlung berechnet werden. Gekauft und bewertet hat _Toby_ die Filme _Snakes on a plane_, _Superman Returns_ und _You and me and Dupree_. Diese bereits vorhandenen Filme bilden die erste Spalte der unten dargestellten Matrix. In der zweiten Spalte befinden sich _Toby's_ Bewertungen dieser Filme. Die Spalten 3,5 und 7 enthalten die Ähnlichkeitswerte (mit _calculateSimilarItems_ unter Verwendung des normierten euklidischen Ähnlichkeitsmaßes berechnet) zwischen den drei von _Toby_ noch nicht gekauften Filmen und den drei von _Toby_ bewerteten Filmen. Diese Ähnlichkeitswerte werden jeweils mit _Toby's_ Bewertungen multipliziert. Das Resultat dieser Multiplikation befindet sich in den Spalten 4,6 und 8. Der finale Empfehlungswert für die von _Toby_ noch nicht gekauften Filme wird berechnet in dem in den Spalten 4,6 und 8 zunächst die Summe über die Werte dieser Spalte in den drei oberen Zeilen berechnet wird und durch die Summe über die Werte der Spalten 3,5 und 7 geteilt wird. Im Fall, dass die _Pearson-Korrelation_ zwischen den Filmen als Ähnlichkeitswert herangezogen wird, können negative Ähnlichkeitswerte auftreten. Dann soll in die Berechnung eines Empfehlungswert für Film A nur dann die Bewertung von Film B einfließen, wenn der Korrelationswert zwischen beiden $>0$ ist.  \n",
    "\n",
    "![Abbildung Calculate Itembased Recommendation](https://www.hdm-stuttgart.de/~maucher/ipnotebooks/DataMining/Bilder/recommenderFilmItemBased.PNG)"
   ]
  },
  {
   "cell_type": "code",
   "execution_count": 33,
   "metadata": {
    "collapsed": false
   },
   "outputs": [
    {
     "data": {
      "text/plain": [
       "{'Just My Luck': [-0.94491118252306827,\n",
       "  -0.33333333333333331,\n",
       "  -0.422890031611031,\n",
       "  0.55555555555555558,\n",
       "  -0.48566186425718266],\n",
       " 'Lady in the Water': [-0.94491118252306827,\n",
       "  0.76376261582597338,\n",
       "  0.48795003647426655,\n",
       "  -0.61237243569579469,\n",
       "  0.33333333333333331],\n",
       " 'Snakes on a Plane': [-0.33333333333333331,\n",
       "  0.76376261582597338,\n",
       "  0.11180339887498948,\n",
       "  -0.56635211395485419,\n",
       "  -0.64549722436790291],\n",
       " 'Superman Returns': [-0.422890031611031,\n",
       "  0.48795003647426655,\n",
       "  0.11180339887498948,\n",
       "  -0.17984719479905417,\n",
       "  0.65795169495976902],\n",
       " 'The Night Listener': [0.55555555555555558,\n",
       "  -0.61237243569579469,\n",
       "  -0.56635211395485419,\n",
       "  -0.1798471947990542,\n",
       "  -0.25000000000000006],\n",
       " 'You, Me and Dupree': [-0.48566186425718266,\n",
       "  0.33333333333333331,\n",
       "  -0.64549722436790291,\n",
       "  0.65795169495976902,\n",
       "  -0.25000000000000006]}"
      ]
     },
     "execution_count": 33,
     "metadata": {},
     "output_type": "execute_result"
    }
   ],
   "source": [
    "def transposeDict(coll):\n",
    "    transposed = dict()\n",
    "    for person, ratings in coll.iteritems():\n",
    "        for movie, rating in ratings.iteritems():\n",
    "            if not movie in transposed:\n",
    "                transposed[movie] = dict()\n",
    "            transposed[movie][person] = rating\n",
    "    return transposed\n",
    "\n",
    "def calculateSimilarItems(prefs, similarity):\n",
    "    return {pref: topMatches(prefs, pref, similarity) for pref in prefs.iterkeys()}\n",
    "\n",
    "def getRecommendedItems(prefs, item, similarity):\n",
    "    transposedCritics = transposeDict(prefs)\n",
    "    return calculateSimilarItems(transposedCritics, similarity)\n",
    "\n",
    "getRecommendedItems(critics, \"Lady in the Water\", sim_pearson)"
   ]
  },
  {
   "cell_type": "markdown",
   "metadata": {},
   "source": [
    "## last.fm Musikempfehlungen\n",
    "Kopieren Sie die Datei _pylast.py_ vom _Resources_-Ordner im _DataMining_-Ordner des Skripteservers in das Verzeichnis dieses _IPython Notebooks_. In dieser Datei sind alle Zugriffsfunktionen auf _last.fm_ Dienste implementiert. Die notwendigen Anmelde- und Authentifizierungsdaten für den User _pythonlab_ sind ebenfalls schon in diesem Modul eingetragen.\n",
    "\n",
    "__Aufgabe:__\n",
    "\n",
    "1. Stellen Sie durch Aufruf der Funktion _network=pylast.get_lastfm_network()_ eine Verbindung zu _last.fm_ her. Beim Aufruf der Funktion wird die Anmeldung und Authentifizierung durchgeführt. Die Funktion gibt ein Objekt der Klasse _Network_ zurück. Über dieses Objekt können Methoden, wie\n",
    "\n",
    "    * _get_artist(\"kuenstlerName\")_ (liefert Objekt der Klasse _Artist_\n",
    "    * _get_album(\"albumName\")_ (liefert Objekt der Klasse _Album_\n",
    "    * _get_track(\"songName\")_ (liefert Objekt der Klasse _Track_\n",
    "    * _get_user(\"userName\"): (liefert Objekt der Klass_Tag_\n",
    "    * usw.\n",
    "    \n",
    "      aufgerufen werden. Die Menge aller verfügbaren Klassen und deren Attribute und Methoden können dem Modul _pylast.py_ entnommen werden.\n",
    "\n",
    "1. Rufen Sie über das oben instanziierte _Network_-Objekt die Methode _get_artist(\"BandIhrerWahl\")_ auf.\n",
    "2. Rufen Sie über das oben instanziierte _Artist_-Objekt die Methode _topfans=get_top_fans(10)_ auf. Die Methode gibt eine Liste von _User_-Objekt/Gewichtung-Paaren zurück. Die Gewichtungen von Objekten werden in diesem Versuch nicht benötigt. Legen Sie deshalb mit _group=[a.item for a in topfan]_ eine Liste an, die nur noch die User Objekte enthält. **Wichtige Anmerkung:** Seit August 2015 gibt es Probleme mit der lastFM API Methode _get_top_fans()_ (siehe auch: [pylast issues](https://github.com/pylast/pylast/issues/155s)). Falls am Versuchstermin der Fehler noch nicht behoben ist, können Sie den unten stehenden Code benutzen. Darin wird versucht auf die API-Methode zuzugreifen. Falls das nicht möglich ist, wird eine vordefinierte Liste von Usern angewandt. Diese Liste repräsentiert die _Top Fans_ der Band _Slipknot_ im Frühjahr 2015. \n",
    "3. Implementieren Sie eine Funktion _createLastfmUserDict()_. Dieser Funktion soll, die oben angelegte Liste von _User_-Objekten _group_ übergeben werden. Für jeden User in _group_ sollen die 20 beliebtesten Bands mit der Methode_topartists=get_top_artists()[0:20]_ bestimmt werden. Die Methode gibt eine Liste von _Artist_-Objekt/Gewichtung-Paaren zurück. Die Gewichtungen von Objekten werden in diesem Versuch nicht benötigt. Auf das _i.te_ _Artist_-Objekt selbst kann mit _topartists[i].item_ zugegriffen werden. Die Menge aller Bands, die auf diese Weise gesammelt werden, wird im folgenden mit _AllBands_ bezeichnet. D.h. in _AllBands_ befinden sich alle Bands, die für mindestens einen User in _group_ zu den Top-20 gehören. Nun soll ein verschachteltes Dictionary mit Namen _userDict_ wie folgt angelegt werden:\n",
    "\n",
    "    * Die Keys sind die Namen der _User_-Objekte in _group_. Auf den Namen eines Objekts kann mit _get_name()_ zugegriffen werden.\n",
    "    * Die Values sind selbst wieder Dictionaries, deren Keys die Namen der Bands in _AllBands_ sind. Achten Sie auch hier darauf, dass Sie nicht das _Artist_-Objekt selbst, sondern dessen Namen als Key verwenden. \n",
    "    * Für den User _a_ und die Band _b_ ist der Value _userDict[a][b]= 1_, falls _b_ zu den Top-20 des Users _a_ gehört. Andernfalls ist _userDict[a][b]= 0_. \n",
    "    \n",
    "    Das derart angelegte Dictionary soll von der Funktion zurückgegeben werden. \n",
    "4. Wählen Sie jetzt einen beliebigen User aus _group_. Bestimmen Sie zu diesem User die ähnlichsten User in _group_ durch Anwendung der im ersten Teilversuch implementierten Funktion **_topMatches()_**. Der Funktion wird das angelegte _userDict_ und der Name des gewählten Users übergeben. Als Ähnlichkeitsmaß soll die euklidische Metrik angewandt werden.\n",
    "5. Bestimmen Sie dann für den gewählten User Band-Empfehlungen durch Anwendung der im ersten Teilversuch implementierten Funktion **_getRecommendations()_**. Der Funktion wird das angelegte _userDict_ und der Name des gewählten Users übergeben. Als Ähnlichkeitsmaß soll die euklidische Metrik, danach die Russel_Rao Metrik, angewandt werden.     \n",
    "6. Diskutieren Sie das Ergebnis"
   ]
  },
  {
   "cell_type": "code",
   "execution_count": 15,
   "metadata": {
    "collapsed": false
   },
   "outputs": [
    {
     "name": "stdout",
     "output_type": "stream",
     "text": [
      "Most similar (as calculated by lastFM) for artist:  Slipknot\n",
      "1.000 \t Stone Sour\n",
      "0.562 \t Korn\n",
      "0.419 \t Mudvayne\n",
      "0.395 \t System of a Down\n",
      "0.368 \t Murderdolls\n",
      "\n",
      "lastFM API Error for method get_top_fans\n",
      "Apply predefined group of users\n"
     ]
    }
   ],
   "source": [
    "import pylast\n",
    "nw=pylast.get_lastfm_network(api_key = \"993a5bd9d79a98a53677570368d55acd\",api_secret = \"9b8de0b57903ac007cdd8ec9003b341e\",username = \"pythonlab\")\n",
    "band='Slipknot'\n",
    "art1 = nw.get_artist(band)\n",
    "print \"Most similar (as calculated by lastFM) for artist: \",band\n",
    "for it in art1.get_similar(5):\n",
    "    print \"%3.3f \\t %s\"%(it.match, it.item)\n",
    "try:\n",
    "    topfan = art1.get_top_fans()\n",
    "    group = [a.item for a in topfan]\n",
    "except:\n",
    "    print \"\\nlastFM API Error for method get_top_fans\\nApply predefined group of users\"\n",
    "    usernames=['BrunoJoS','DPREBOYE','MPistol40','NemoNightfall','SkyRif','Wags1382','Znapsen','cortapsyco','emill_67','sattuviitana']\n",
    "    group=[]\n",
    "    for u in usernames:\n",
    "        u1 = nw.get_user(u)\n",
    "        group.append(u1)"
   ]
  }
 ],
 "metadata": {
  "kernelspec": {
   "display_name": "Python 2",
   "language": "python",
   "name": "python2"
  },
  "language_info": {
   "codemirror_mode": {
    "name": "ipython",
    "version": 2
   },
   "file_extension": ".py",
   "mimetype": "text/x-python",
   "name": "python",
   "nbconvert_exporter": "python",
   "pygments_lexer": "ipython2",
   "version": "2.7.12"
  },
  "nav_menu": {},
  "toc": {
   "navigate_menu": true,
   "number_sections": true,
   "sideBar": true,
   "threshold": 6,
   "toc_cell": true,
   "toc_section_display": "block",
   "toc_window_display": true
  }
 },
 "nbformat": 4,
 "nbformat_minor": 0
}
